{
 "cells": [
  {
   "cell_type": "code",
   "execution_count": 1,
   "id": "e1cd7ecf",
   "metadata": {},
   "outputs": [],
   "source": [
    "import numpy as np\n",
    "import pandas as pd\n",
    "import seaborn as sns\n",
    "import matplotlib.pyplot as plt\n",
    "\n",
    "from sklearn.ensemble import RandomForestRegressor\n",
    "from sklearn.metrics import r2_score, mean_squared_error, mean_absolute_error\n",
    "from sklearn.model_selection import train_test_split\n",
    "\n",
    "from sklearn.model_selection import GridSearchCV, RandomizedSearchCV\n",
    "from sklearn.preprocessing import LabelEncoder, OneHotEncoder\n",
    "\n",
    "import warnings\n",
    "warnings.filterwarnings('ignore')"
   ]
  },
  {
   "cell_type": "markdown",
   "id": "d2b84178",
   "metadata": {},
   "source": [
    "# 1.Problem Statement :-"
   ]
  },
  {
   "cell_type": "raw",
   "id": "2f1bf659",
   "metadata": {},
   "source": [
    "For a retail furniture store, predicting future sales is critical to avoiding inventory issues like overstocking\n",
    "or under-stocking. The challenge lies in utilizing time series data from the superstore dataset to forecast\n",
    "furniture sales for the next year accurately. This predictive insight ensures an optimal customer\n",
    "experience, avoids losses, and maintains store sustainability.\n"
   ]
  },
  {
   "cell_type": "markdown",
   "id": "2517156d",
   "metadata": {},
   "source": [
    "# 2. Data Gathering"
   ]
  },
  {
   "cell_type": "code",
   "execution_count": 2,
   "id": "11555c6d",
   "metadata": {},
   "outputs": [
    {
     "data": {
      "text/html": [
       "<div>\n",
       "<style scoped>\n",
       "    .dataframe tbody tr th:only-of-type {\n",
       "        vertical-align: middle;\n",
       "    }\n",
       "\n",
       "    .dataframe tbody tr th {\n",
       "        vertical-align: top;\n",
       "    }\n",
       "\n",
       "    .dataframe thead th {\n",
       "        text-align: right;\n",
       "    }\n",
       "</style>\n",
       "<table border=\"1\" class=\"dataframe\">\n",
       "  <thead>\n",
       "    <tr style=\"text-align: right;\">\n",
       "      <th></th>\n",
       "      <th>Row ID</th>\n",
       "      <th>Order ID</th>\n",
       "      <th>Order Date</th>\n",
       "      <th>Ship Date</th>\n",
       "      <th>Ship Mode</th>\n",
       "      <th>Customer ID</th>\n",
       "      <th>Customer Name</th>\n",
       "      <th>Segment</th>\n",
       "      <th>Country</th>\n",
       "      <th>City</th>\n",
       "      <th>...</th>\n",
       "      <th>Postal Code</th>\n",
       "      <th>Region</th>\n",
       "      <th>Product ID</th>\n",
       "      <th>Category</th>\n",
       "      <th>Sub-Category</th>\n",
       "      <th>Product Name</th>\n",
       "      <th>Sales</th>\n",
       "      <th>Quantity</th>\n",
       "      <th>Discount</th>\n",
       "      <th>Profit</th>\n",
       "    </tr>\n",
       "  </thead>\n",
       "  <tbody>\n",
       "    <tr>\n",
       "      <th>0</th>\n",
       "      <td>1</td>\n",
       "      <td>CA-2016-152156</td>\n",
       "      <td>11/8/2016</td>\n",
       "      <td>11/11/2016</td>\n",
       "      <td>Second Class</td>\n",
       "      <td>CG-12520</td>\n",
       "      <td>Claire Gute</td>\n",
       "      <td>Consumer</td>\n",
       "      <td>United States</td>\n",
       "      <td>Henderson</td>\n",
       "      <td>...</td>\n",
       "      <td>42420</td>\n",
       "      <td>South</td>\n",
       "      <td>FUR-BO-10001798</td>\n",
       "      <td>Furniture</td>\n",
       "      <td>Bookcases</td>\n",
       "      <td>Bush Somerset Collection Bookcase</td>\n",
       "      <td>261.9600</td>\n",
       "      <td>2</td>\n",
       "      <td>0.00</td>\n",
       "      <td>41.9136</td>\n",
       "    </tr>\n",
       "    <tr>\n",
       "      <th>1</th>\n",
       "      <td>2</td>\n",
       "      <td>CA-2016-152156</td>\n",
       "      <td>11/8/2016</td>\n",
       "      <td>11/11/2016</td>\n",
       "      <td>Second Class</td>\n",
       "      <td>CG-12520</td>\n",
       "      <td>Claire Gute</td>\n",
       "      <td>Consumer</td>\n",
       "      <td>United States</td>\n",
       "      <td>Henderson</td>\n",
       "      <td>...</td>\n",
       "      <td>42420</td>\n",
       "      <td>South</td>\n",
       "      <td>FUR-CH-10000454</td>\n",
       "      <td>Furniture</td>\n",
       "      <td>Chairs</td>\n",
       "      <td>Hon Deluxe Fabric Upholstered Stacking Chairs,...</td>\n",
       "      <td>731.9400</td>\n",
       "      <td>3</td>\n",
       "      <td>0.00</td>\n",
       "      <td>219.5820</td>\n",
       "    </tr>\n",
       "    <tr>\n",
       "      <th>2</th>\n",
       "      <td>4</td>\n",
       "      <td>US-2015-108966</td>\n",
       "      <td>10/11/2015</td>\n",
       "      <td>10/18/2015</td>\n",
       "      <td>Standard Class</td>\n",
       "      <td>SO-20335</td>\n",
       "      <td>Sean O'Donnell</td>\n",
       "      <td>Consumer</td>\n",
       "      <td>United States</td>\n",
       "      <td>Fort Lauderdale</td>\n",
       "      <td>...</td>\n",
       "      <td>33311</td>\n",
       "      <td>South</td>\n",
       "      <td>FUR-TA-10000577</td>\n",
       "      <td>Furniture</td>\n",
       "      <td>Tables</td>\n",
       "      <td>Bretford CR4500 Series Slim Rectangular Table</td>\n",
       "      <td>957.5775</td>\n",
       "      <td>5</td>\n",
       "      <td>0.45</td>\n",
       "      <td>-383.0310</td>\n",
       "    </tr>\n",
       "    <tr>\n",
       "      <th>3</th>\n",
       "      <td>6</td>\n",
       "      <td>CA-2014-115812</td>\n",
       "      <td>6/9/2014</td>\n",
       "      <td>6/14/2014</td>\n",
       "      <td>Standard Class</td>\n",
       "      <td>BH-11710</td>\n",
       "      <td>Brosina Hoffman</td>\n",
       "      <td>Consumer</td>\n",
       "      <td>United States</td>\n",
       "      <td>Los Angeles</td>\n",
       "      <td>...</td>\n",
       "      <td>90032</td>\n",
       "      <td>West</td>\n",
       "      <td>FUR-FU-10001487</td>\n",
       "      <td>Furniture</td>\n",
       "      <td>Furnishings</td>\n",
       "      <td>Eldon Expressions Wood and Plastic Desk Access...</td>\n",
       "      <td>48.8600</td>\n",
       "      <td>7</td>\n",
       "      <td>0.00</td>\n",
       "      <td>14.1694</td>\n",
       "    </tr>\n",
       "    <tr>\n",
       "      <th>4</th>\n",
       "      <td>11</td>\n",
       "      <td>CA-2014-115812</td>\n",
       "      <td>6/9/2014</td>\n",
       "      <td>6/14/2014</td>\n",
       "      <td>Standard Class</td>\n",
       "      <td>BH-11710</td>\n",
       "      <td>Brosina Hoffman</td>\n",
       "      <td>Consumer</td>\n",
       "      <td>United States</td>\n",
       "      <td>Los Angeles</td>\n",
       "      <td>...</td>\n",
       "      <td>90032</td>\n",
       "      <td>West</td>\n",
       "      <td>FUR-TA-10001539</td>\n",
       "      <td>Furniture</td>\n",
       "      <td>Tables</td>\n",
       "      <td>Chromcraft Rectangular Conference Tables</td>\n",
       "      <td>1706.1840</td>\n",
       "      <td>9</td>\n",
       "      <td>0.20</td>\n",
       "      <td>85.3092</td>\n",
       "    </tr>\n",
       "  </tbody>\n",
       "</table>\n",
       "<p>5 rows × 21 columns</p>\n",
       "</div>"
      ],
      "text/plain": [
       "   Row ID        Order ID  Order Date   Ship Date       Ship Mode Customer ID  \\\n",
       "0       1  CA-2016-152156   11/8/2016  11/11/2016    Second Class    CG-12520   \n",
       "1       2  CA-2016-152156   11/8/2016  11/11/2016    Second Class    CG-12520   \n",
       "2       4  US-2015-108966  10/11/2015  10/18/2015  Standard Class    SO-20335   \n",
       "3       6  CA-2014-115812    6/9/2014   6/14/2014  Standard Class    BH-11710   \n",
       "4      11  CA-2014-115812    6/9/2014   6/14/2014  Standard Class    BH-11710   \n",
       "\n",
       "     Customer Name   Segment        Country             City  ... Postal Code  \\\n",
       "0      Claire Gute  Consumer  United States        Henderson  ...       42420   \n",
       "1      Claire Gute  Consumer  United States        Henderson  ...       42420   \n",
       "2   Sean O'Donnell  Consumer  United States  Fort Lauderdale  ...       33311   \n",
       "3  Brosina Hoffman  Consumer  United States      Los Angeles  ...       90032   \n",
       "4  Brosina Hoffman  Consumer  United States      Los Angeles  ...       90032   \n",
       "\n",
       "   Region       Product ID   Category Sub-Category  \\\n",
       "0   South  FUR-BO-10001798  Furniture    Bookcases   \n",
       "1   South  FUR-CH-10000454  Furniture       Chairs   \n",
       "2   South  FUR-TA-10000577  Furniture       Tables   \n",
       "3    West  FUR-FU-10001487  Furniture  Furnishings   \n",
       "4    West  FUR-TA-10001539  Furniture       Tables   \n",
       "\n",
       "                                        Product Name      Sales  Quantity  \\\n",
       "0                  Bush Somerset Collection Bookcase   261.9600         2   \n",
       "1  Hon Deluxe Fabric Upholstered Stacking Chairs,...   731.9400         3   \n",
       "2      Bretford CR4500 Series Slim Rectangular Table   957.5775         5   \n",
       "3  Eldon Expressions Wood and Plastic Desk Access...    48.8600         7   \n",
       "4           Chromcraft Rectangular Conference Tables  1706.1840         9   \n",
       "\n",
       "   Discount    Profit  \n",
       "0      0.00   41.9136  \n",
       "1      0.00  219.5820  \n",
       "2      0.45 -383.0310  \n",
       "3      0.00   14.1694  \n",
       "4      0.20   85.3092  \n",
       "\n",
       "[5 rows x 21 columns]"
      ]
     },
     "execution_count": 2,
     "metadata": {},
     "output_type": "execute_result"
    }
   ],
   "source": [
    "df = pd.read_csv('Super_Store_data.csv',encoding='latin-1')\n",
    "df.head()"
   ]
  },
  {
   "cell_type": "markdown",
   "id": "2a8229ba",
   "metadata": {},
   "source": [
    "# "
   ]
  },
  {
   "cell_type": "markdown",
   "id": "43d57c5a",
   "metadata": {},
   "source": [
    "# 3. Exploratory Data Analysis"
   ]
  },
  {
   "cell_type": "code",
   "execution_count": 3,
   "id": "62e794b9",
   "metadata": {},
   "outputs": [
    {
     "name": "stdout",
     "output_type": "stream",
     "text": [
      "<class 'pandas.core.frame.DataFrame'>\n",
      "RangeIndex: 2121 entries, 0 to 2120\n",
      "Data columns (total 21 columns):\n",
      " #   Column         Non-Null Count  Dtype  \n",
      "---  ------         --------------  -----  \n",
      " 0   Row ID         2121 non-null   int64  \n",
      " 1   Order ID       2121 non-null   object \n",
      " 2   Order Date     2121 non-null   object \n",
      " 3   Ship Date      2121 non-null   object \n",
      " 4   Ship Mode      2121 non-null   object \n",
      " 5   Customer ID    2121 non-null   object \n",
      " 6   Customer Name  2121 non-null   object \n",
      " 7   Segment        2121 non-null   object \n",
      " 8   Country        2121 non-null   object \n",
      " 9   City           2121 non-null   object \n",
      " 10  State          2121 non-null   object \n",
      " 11  Postal Code    2121 non-null   int64  \n",
      " 12  Region         2121 non-null   object \n",
      " 13  Product ID     2121 non-null   object \n",
      " 14  Category       2121 non-null   object \n",
      " 15  Sub-Category   2121 non-null   object \n",
      " 16  Product Name   2121 non-null   object \n",
      " 17  Sales          2121 non-null   float64\n",
      " 18  Quantity       2121 non-null   int64  \n",
      " 19  Discount       2121 non-null   float64\n",
      " 20  Profit         2121 non-null   float64\n",
      "dtypes: float64(3), int64(3), object(15)\n",
      "memory usage: 348.1+ KB\n"
     ]
    }
   ],
   "source": [
    "df.info()\n",
    "# Observations :-\n",
    "# Some attributes has 'object' datatype.\n",
    "# we need to convert 'object' datatype to 'int'"
   ]
  },
  {
   "cell_type": "code",
   "execution_count": 4,
   "id": "3fb817d4",
   "metadata": {},
   "outputs": [
    {
     "data": {
      "text/plain": [
       "Row ID           0\n",
       "Order ID         0\n",
       "Order Date       0\n",
       "Ship Date        0\n",
       "Ship Mode        0\n",
       "Customer ID      0\n",
       "Customer Name    0\n",
       "Segment          0\n",
       "Country          0\n",
       "City             0\n",
       "State            0\n",
       "Postal Code      0\n",
       "Region           0\n",
       "Product ID       0\n",
       "Category         0\n",
       "Sub-Category     0\n",
       "Product Name     0\n",
       "Sales            0\n",
       "Quantity         0\n",
       "Discount         0\n",
       "Profit           0\n",
       "dtype: int64"
      ]
     },
     "execution_count": 4,
     "metadata": {},
     "output_type": "execute_result"
    }
   ],
   "source": [
    "df.isna().sum()\n",
    "# Observatons :-\n",
    "# Here no columns contain null values.\n",
    "# so we dont need to handle missing values."
   ]
  },
  {
   "cell_type": "markdown",
   "id": "0b67866b",
   "metadata": {},
   "source": [
    "# "
   ]
  },
  {
   "cell_type": "markdown",
   "id": "8b760469",
   "metadata": {},
   "source": [
    "# 4. Feature engineering"
   ]
  },
  {
   "cell_type": "markdown",
   "id": "5388f2ae",
   "metadata": {},
   "source": [
    "## A.Converting object datatype into datetime datatype, then extracting various information"
   ]
  },
  {
   "cell_type": "markdown",
   "id": "5481478a",
   "metadata": {},
   "source": [
    "### 1. Order Date"
   ]
  },
  {
   "cell_type": "code",
   "execution_count": 5,
   "id": "2ae54906",
   "metadata": {},
   "outputs": [],
   "source": [
    "df['Order Date'] = pd.to_datetime(df['Order Date'] )\n",
    "\n",
    "# Converting attribute'Order Date' which is in 'object' datatype to 'datetime' datatype."
   ]
  },
  {
   "cell_type": "code",
   "execution_count": 6,
   "id": "213c3efe",
   "metadata": {},
   "outputs": [
    {
     "name": "stdout",
     "output_type": "stream",
     "text": [
      "<class 'pandas.core.series.Series'>\n",
      "RangeIndex: 2121 entries, 0 to 2120\n",
      "Series name: Order Date\n",
      "Non-Null Count  Dtype         \n",
      "--------------  -----         \n",
      "2121 non-null   datetime64[ns]\n",
      "dtypes: datetime64[ns](1)\n",
      "memory usage: 16.7 KB\n"
     ]
    }
   ],
   "source": [
    "df['Order Date'].info()"
   ]
  },
  {
   "cell_type": "code",
   "execution_count": 7,
   "id": "b43b83b5",
   "metadata": {},
   "outputs": [],
   "source": [
    "# Extracting Year, month, day, month_name\n",
    "df['Order Year'] = df['Order Date'].dt.year\n",
    "\n",
    "df['Order Month'] =df['Order Date'].dt.month\n",
    "\n",
    "df['Order Month name'] = df['Order Date'].dt.month_name()\n",
    "\n",
    "df['Order Day'] = df['Order Date'].dt.day"
   ]
  },
  {
   "cell_type": "code",
   "execution_count": 8,
   "id": "59c6fbfb",
   "metadata": {},
   "outputs": [],
   "source": [
    "#df.head(2)"
   ]
  },
  {
   "cell_type": "markdown",
   "id": "020b4997",
   "metadata": {},
   "source": [
    "### 2.Ship Date"
   ]
  },
  {
   "cell_type": "code",
   "execution_count": 9,
   "id": "8cfb3916",
   "metadata": {},
   "outputs": [],
   "source": [
    "df['Ship Date'] = pd.to_datetime(df['Ship Date'])\n",
    "# Converting attribute'Order Date' which is in 'object' datatype to 'datetime' datatype."
   ]
  },
  {
   "cell_type": "code",
   "execution_count": 10,
   "id": "ee51bb54",
   "metadata": {},
   "outputs": [
    {
     "name": "stdout",
     "output_type": "stream",
     "text": [
      "<class 'pandas.core.series.Series'>\n",
      "RangeIndex: 2121 entries, 0 to 2120\n",
      "Series name: Ship Date\n",
      "Non-Null Count  Dtype         \n",
      "--------------  -----         \n",
      "2121 non-null   datetime64[ns]\n",
      "dtypes: datetime64[ns](1)\n",
      "memory usage: 16.7 KB\n"
     ]
    }
   ],
   "source": [
    "df['Ship Date'].info()"
   ]
  },
  {
   "cell_type": "code",
   "execution_count": 11,
   "id": "6cc3138d",
   "metadata": {},
   "outputs": [],
   "source": [
    "# Now Extractng year,date,month from 'Ship date'\n",
    "\n",
    "df['Ship Year'] = df['Ship Date'].dt.year\n",
    "df['Shiper Month'] = df['Ship Date'].dt.month\n",
    "df['Ship Day'] = df['Ship Date'].dt.day\n",
    "df['Ship Month Name'] = df['Ship Date'].dt.month_name()"
   ]
  },
  {
   "cell_type": "code",
   "execution_count": 12,
   "id": "2b1ee5e2",
   "metadata": {},
   "outputs": [],
   "source": [
    "df.rename({'Shiper Month':'Ship Month'},axis=1,inplace=True)"
   ]
  },
  {
   "cell_type": "code",
   "execution_count": 13,
   "id": "29f2673c",
   "metadata": {},
   "outputs": [],
   "source": [
    "#df.head()"
   ]
  },
  {
   "cell_type": "code",
   "execution_count": 14,
   "id": "63004cf1",
   "metadata": {},
   "outputs": [],
   "source": [
    "# droping some columns\n",
    "df.drop(['Row ID','Row ID','Order Date','Ship Date','Order ID'],axis=1,inplace=True)"
   ]
  },
  {
   "cell_type": "code",
   "execution_count": 15,
   "id": "b211694e",
   "metadata": {},
   "outputs": [
    {
     "name": "stdout",
     "output_type": "stream",
     "text": [
      "<class 'pandas.core.frame.DataFrame'>\n",
      "RangeIndex: 2121 entries, 0 to 2120\n",
      "Data columns (total 25 columns):\n",
      " #   Column            Non-Null Count  Dtype  \n",
      "---  ------            --------------  -----  \n",
      " 0   Ship Mode         2121 non-null   object \n",
      " 1   Customer ID       2121 non-null   object \n",
      " 2   Customer Name     2121 non-null   object \n",
      " 3   Segment           2121 non-null   object \n",
      " 4   Country           2121 non-null   object \n",
      " 5   City              2121 non-null   object \n",
      " 6   State             2121 non-null   object \n",
      " 7   Postal Code       2121 non-null   int64  \n",
      " 8   Region            2121 non-null   object \n",
      " 9   Product ID        2121 non-null   object \n",
      " 10  Category          2121 non-null   object \n",
      " 11  Sub-Category      2121 non-null   object \n",
      " 12  Product Name      2121 non-null   object \n",
      " 13  Sales             2121 non-null   float64\n",
      " 14  Quantity          2121 non-null   int64  \n",
      " 15  Discount          2121 non-null   float64\n",
      " 16  Profit            2121 non-null   float64\n",
      " 17  Order Year        2121 non-null   int64  \n",
      " 18  Order Month       2121 non-null   int64  \n",
      " 19  Order Month name  2121 non-null   object \n",
      " 20  Order Day         2121 non-null   int64  \n",
      " 21  Ship Year         2121 non-null   int64  \n",
      " 22  Ship Month        2121 non-null   int64  \n",
      " 23  Ship Day          2121 non-null   int64  \n",
      " 24  Ship Month Name   2121 non-null   object \n",
      "dtypes: float64(3), int64(8), object(14)\n",
      "memory usage: 414.4+ KB\n"
     ]
    }
   ],
   "source": [
    "df.info()"
   ]
  },
  {
   "cell_type": "markdown",
   "id": "8b3162cf",
   "metadata": {},
   "source": [
    "# "
   ]
  },
  {
   "cell_type": "markdown",
   "id": "172eaf1e",
   "metadata": {},
   "source": [
    "# 3. Exploratory Data Analysis "
   ]
  },
  {
   "cell_type": "markdown",
   "id": "f4814d33",
   "metadata": {},
   "source": [
    "## A. Data visualisation (EDA Continue)"
   ]
  },
  {
   "cell_type": "code",
   "execution_count": 16,
   "id": "0fb7b429",
   "metadata": {},
   "outputs": [],
   "source": [
    "#df.info()"
   ]
  },
  {
   "cell_type": "code",
   "execution_count": 17,
   "id": "2678091b",
   "metadata": {},
   "outputs": [
    {
     "data": {
      "text/plain": [
       "Text(0.5, 1.0, 'Profit Vs sales')"
      ]
     },
     "execution_count": 17,
     "metadata": {},
     "output_type": "execute_result"
    },
    {
     "data": {
      "image/png": "[encoded data removed]",
      "text/plain": [
       "<Figure size 360x360 with 1 Axes>"
      ]
     },
     "metadata": {
      "needs_background": "light"
     },
     "output_type": "display_data"
    }
   ],
   "source": [
    "sns.lmplot(x='Profit', y='Sales',data=df)\n",
    "plt.title('Profit Vs sales')\n",
    "# Observations :-\n",
    "# Fromplot we see that, many points from attribute'Profit' are not in linear relation with target column 'Y' i.e. 'Sales'.\n",
    "# 'Proft' is independent variable.\n",
    "# We need to handle this attribute.\n",
    "# This variable also contains an outliers, sowe need yo fix this first."
   ]
  },
  {
   "cell_type": "code",
   "execution_count": 18,
   "id": "a7999cc0",
   "metadata": {},
   "outputs": [
    {
     "data": {
      "text/plain": [
       "<seaborn.axisgrid.FacetGrid at 0x23f90fe8fd0>"
      ]
     },
     "execution_count": 18,
     "metadata": {},
     "output_type": "execute_result"
    },
    {
     "data": {
      "image/png": "[encoded data removed]",
      "text/plain": [
       "<Figure size 360x360 with 1 Axes>"
      ]
     },
     "metadata": {
      "needs_background": "light"
     },
     "output_type": "display_data"
    }
   ],
   "source": [
    "sns.catplot(data=df, x='Discount',y='Sales')"
   ]
  },
  {
   "cell_type": "code",
   "execution_count": 19,
   "id": "311cd079",
   "metadata": {},
   "outputs": [
    {
     "data": {
      "text/plain": [
       "<seaborn.axisgrid.FacetGrid at 0x23f93209310>"
      ]
     },
     "execution_count": 19,
     "metadata": {},
     "output_type": "execute_result"
    },
    {
     "data": {
      "image/png": "[encoded data removed]",
      "text/plain": [
       "<Figure size 360x360 with 1 Axes>"
      ]
     },
     "metadata": {
      "needs_background": "light"
     },
     "output_type": "display_data"
    }
   ],
   "source": [
    "sns.catplot(data=df, x='Discount',y='Profit')"
   ]
  },
  {
   "cell_type": "code",
   "execution_count": 20,
   "id": "6e6f5770",
   "metadata": {},
   "outputs": [
    {
     "data": {
      "text/plain": [
       "<AxesSubplot:xlabel='Region', ylabel='count'>"
      ]
     },
     "execution_count": 20,
     "metadata": {},
     "output_type": "execute_result"
    },
    {
     "data": {
      "image/png": "[encoded data removed]",
      "text/plain": [
       "<Figure size 432x288 with 1 Axes>"
      ]
     },
     "metadata": {
      "needs_background": "light"
     },
     "output_type": "display_data"
    }
   ],
   "source": [
    "sns.countplot(data=df, x='Region',hue='Sub-Category')"
   ]
  },
  {
   "cell_type": "code",
   "execution_count": 21,
   "id": "028f8346",
   "metadata": {},
   "outputs": [
    {
     "data": {
      "text/plain": [
       "<AxesSubplot:xlabel='Order Year', ylabel='count'>"
      ]
     },
     "execution_count": 21,
     "metadata": {},
     "output_type": "execute_result"
    },
    {
     "data": {
      "image/png": "[encoded data removed]",
      "text/plain": [
       "<Figure size 432x288 with 1 Axes>"
      ]
     },
     "metadata": {
      "needs_background": "light"
     },
     "output_type": "display_data"
    }
   ],
   "source": [
    "sns.countplot(data=df, x='Order Year',hue='Sub-Category')"
   ]
  },
  {
   "cell_type": "code",
   "execution_count": 22,
   "id": "e563fb81",
   "metadata": {},
   "outputs": [
    {
     "data": {
      "text/plain": [
       "<seaborn.axisgrid.FacetGrid at 0x23f94272850>"
      ]
     },
     "execution_count": 22,
     "metadata": {},
     "output_type": "execute_result"
    },
    {
     "data": {
      "image/png": "[encoded data removed]",
      "text/plain": [
       "<Figure size 360x360 with 1 Axes>"
      ]
     },
     "metadata": {
      "needs_background": "light"
     },
     "output_type": "display_data"
    }
   ],
   "source": [
    "sns.catplot(data=df, x='Segment',y='Sales')"
   ]
  },
  {
   "cell_type": "code",
   "execution_count": 23,
   "id": "d755c19b",
   "metadata": {},
   "outputs": [
    {
     "data": {
      "text/plain": [
       "<AxesSubplot:xlabel='Segment', ylabel='count'>"
      ]
     },
     "execution_count": 23,
     "metadata": {},
     "output_type": "execute_result"
    },
    {
     "data": {
      "image/png": "[encoded data removed]",
      "text/plain": [
       "<Figure size 432x288 with 1 Axes>"
      ]
     },
     "metadata": {
      "needs_background": "light"
     },
     "output_type": "display_data"
    }
   ],
   "source": [
    "sns.countplot(data=df, x='Segment',hue='Sub-Category')"
   ]
  },
  {
   "cell_type": "code",
   "execution_count": 24,
   "id": "3beb644b",
   "metadata": {},
   "outputs": [
    {
     "data": {
      "text/plain": [
       "<AxesSubplot:xlabel='Order Year', ylabel='count'>"
      ]
     },
     "execution_count": 24,
     "metadata": {},
     "output_type": "execute_result"
    },
    {
     "data": {
      "image/png": "[encoded data removed]",
      "text/plain": [
       "<Figure size 432x288 with 1 Axes>"
      ]
     },
     "metadata": {
      "needs_background": "light"
     },
     "output_type": "display_data"
    }
   ],
   "source": [
    "sns.countplot(data=df, x='Order Year',hue='Segment')"
   ]
  },
  {
   "cell_type": "code",
   "execution_count": 25,
   "id": "429256d1",
   "metadata": {},
   "outputs": [],
   "source": [
    "#plt.figure(figsize=(10,8))\n",
    "#sns.countplot(data=df, x='Order Year',hue='Quantity')"
   ]
  },
  {
   "cell_type": "code",
   "execution_count": 26,
   "id": "1604af40",
   "metadata": {},
   "outputs": [
    {
     "data": {
      "text/plain": [
       "<AxesSubplot:xlabel='Order Year', ylabel='count'>"
      ]
     },
     "execution_count": 26,
     "metadata": {},
     "output_type": "execute_result"
    },
    {
     "data": {
      "image/png": "[encoded data removed]",
      "text/plain": [
       "<Figure size 432x288 with 1 Axes>"
      ]
     },
     "metadata": {
      "needs_background": "light"
     },
     "output_type": "display_data"
    }
   ],
   "source": [
    "sns.countplot(data=df, x='Order Year',hue='Region')"
   ]
  },
  {
   "cell_type": "code",
   "execution_count": 27,
   "id": "add0ca63",
   "metadata": {},
   "outputs": [
    {
     "data": {
      "text/plain": [
       "<AxesSubplot:xlabel='Quantity', ylabel='count'>"
      ]
     },
     "execution_count": 27,
     "metadata": {},
     "output_type": "execute_result"
    },
    {
     "data": {
      "image/png": "[encoded data removed]",
      "text/plain": [
       "<Figure size 432x288 with 1 Axes>"
      ]
     },
     "metadata": {
      "needs_background": "light"
     },
     "output_type": "display_data"
    }
   ],
   "source": [
    "sns.countplot(data=df, x='Quantity',hue='Order Year')"
   ]
  },
  {
   "cell_type": "code",
   "execution_count": 28,
   "id": "97222c02",
   "metadata": {},
   "outputs": [
    {
     "data": {
      "text/plain": [
       "<AxesSubplot:xlabel='Quantity', ylabel='count'>"
      ]
     },
     "execution_count": 28,
     "metadata": {},
     "output_type": "execute_result"
    },
    {
     "data": {
      "image/png": "[encoded data removed]",
      "text/plain": [
       "<Figure size 432x288 with 1 Axes>"
      ]
     },
     "metadata": {
      "needs_background": "light"
     },
     "output_type": "display_data"
    }
   ],
   "source": [
    "sns.countplot(data=df, x='Quantity',hue='Sub-Category')"
   ]
  },
  {
   "cell_type": "code",
   "execution_count": 29,
   "id": "03db6a76",
   "metadata": {},
   "outputs": [],
   "source": [
    "#sns.lmplot(data=df, x='Order Month',y='Ship Month')"
   ]
  },
  {
   "cell_type": "code",
   "execution_count": 30,
   "id": "9361a4d0",
   "metadata": {},
   "outputs": [],
   "source": [
    "cat = df.select_dtypes(include='object')\n",
    "num= df.select_dtypes(include='int')"
   ]
  },
  {
   "cell_type": "code",
   "execution_count": 31,
   "id": "3514b533",
   "metadata": {},
   "outputs": [
    {
     "data": {
      "text/plain": [
       "Index(['Ship Mode', 'Customer ID', 'Customer Name', 'Segment', 'Country',\n",
       "       'City', 'State', 'Region', 'Product ID', 'Category', 'Sub-Category',\n",
       "       'Product Name', 'Order Month name', 'Ship Month Name'],\n",
       "      dtype='object')"
      ]
     },
     "execution_count": 31,
     "metadata": {},
     "output_type": "execute_result"
    }
   ],
   "source": [
    "cat.columns"
   ]
  },
  {
   "cell_type": "code",
   "execution_count": 32,
   "id": "45924ef5",
   "metadata": {},
   "outputs": [
    {
     "data": {
      "text/plain": [
       "Index(['Postal Code', 'Quantity', 'Order Year', 'Order Month', 'Order Day',\n",
       "       'Ship Year', 'Ship Month', 'Ship Day'],\n",
       "      dtype='object')"
      ]
     },
     "execution_count": 32,
     "metadata": {},
     "output_type": "execute_result"
    }
   ],
   "source": [
    "num.columns"
   ]
  },
  {
   "cell_type": "markdown",
   "id": "14f74a86",
   "metadata": {},
   "source": [
    "# "
   ]
  },
  {
   "cell_type": "markdown",
   "id": "e4b10e7c",
   "metadata": {},
   "source": [
    "# 4. Feature Engineering Continue"
   ]
  },
  {
   "cell_type": "markdown",
   "id": "e02afc1d",
   "metadata": {},
   "source": [
    "## B. Handling Categorical Features"
   ]
  },
  {
   "cell_type": "markdown",
   "id": "06f50e8d",
   "metadata": {},
   "source": [
    "### 1. Ship Mode"
   ]
  },
  {
   "cell_type": "code",
   "execution_count": 33,
   "id": "e9d5c54f",
   "metadata": {},
   "outputs": [
    {
     "data": {
      "text/plain": [
       "Standard Class    1248\n",
       "Second Class       427\n",
       "First Class        327\n",
       "Same Day           119\n",
       "Name: Ship Mode, dtype: int64"
      ]
     },
     "execution_count": 33,
     "metadata": {},
     "output_type": "execute_result"
    }
   ],
   "source": [
    "df['Ship Mode'].value_counts()\n",
    "\n",
    "# Observations:-\n",
    "# This column contains ordinal data. so we are using labelencoder here."
   ]
  },
  {
   "cell_type": "code",
   "execution_count": 34,
   "id": "dc5f7674",
   "metadata": {},
   "outputs": [],
   "source": [
    "label_enc = LabelEncoder()\n",
    "df['Ship Mode'] = label_enc.fit_transform(df['Ship Mode'])"
   ]
  },
  {
   "cell_type": "code",
   "execution_count": 35,
   "id": "41219791",
   "metadata": {},
   "outputs": [
    {
     "data": {
      "text/plain": [
       "3    1248\n",
       "2     427\n",
       "0     327\n",
       "1     119\n",
       "Name: Ship Mode, dtype: int64"
      ]
     },
     "execution_count": 35,
     "metadata": {},
     "output_type": "execute_result"
    }
   ],
   "source": [
    "df['Ship Mode'].value_counts()"
   ]
  },
  {
   "cell_type": "markdown",
   "id": "b2014ff8",
   "metadata": {},
   "source": [
    "### 2. Segment"
   ]
  },
  {
   "cell_type": "code",
   "execution_count": 36,
   "id": "7b004841",
   "metadata": {},
   "outputs": [],
   "source": [
    "#df.head()"
   ]
  },
  {
   "cell_type": "code",
   "execution_count": 37,
   "id": "a79d7067",
   "metadata": {},
   "outputs": [
    {
     "data": {
      "text/plain": [
       "Consumer       1113\n",
       "Corporate       646\n",
       "Home Office     362\n",
       "Name: Segment, dtype: int64"
      ]
     },
     "execution_count": 37,
     "metadata": {},
     "output_type": "execute_result"
    }
   ],
   "source": [
    "df['Segment'].value_counts()"
   ]
  },
  {
   "cell_type": "code",
   "execution_count": 38,
   "id": "a287193a",
   "metadata": {},
   "outputs": [],
   "source": [
    "df['Segment'] = df['Segment'].replace({'Consumer' : 0, 'Corporate' : 1, 'Home Office' : 2})"
   ]
  },
  {
   "cell_type": "code",
   "execution_count": 39,
   "id": "fa47addd",
   "metadata": {},
   "outputs": [
    {
     "data": {
      "text/plain": [
       "0    1113\n",
       "1     646\n",
       "2     362\n",
       "Name: Segment, dtype: int64"
      ]
     },
     "execution_count": 39,
     "metadata": {},
     "output_type": "execute_result"
    }
   ],
   "source": [
    "df['Segment'].value_counts()"
   ]
  },
  {
   "cell_type": "code",
   "execution_count": 40,
   "id": "e0099175",
   "metadata": {},
   "outputs": [],
   "source": [
    "#df.info()"
   ]
  },
  {
   "cell_type": "markdown",
   "id": "2fc565a2",
   "metadata": {},
   "source": [
    "### 3. Country"
   ]
  },
  {
   "cell_type": "code",
   "execution_count": 41,
   "id": "e72b05cf",
   "metadata": {},
   "outputs": [
    {
     "data": {
      "text/plain": [
       "United States    2121\n",
       "Name: Country, dtype: int64"
      ]
     },
     "execution_count": 41,
     "metadata": {},
     "output_type": "execute_result"
    }
   ],
   "source": [
    "df['Country'].value_counts()"
   ]
  },
  {
   "cell_type": "code",
   "execution_count": 42,
   "id": "79ac163b",
   "metadata": {},
   "outputs": [],
   "source": [
    "df['Country'] = df['Country'].replace({'United States' : 0})"
   ]
  },
  {
   "cell_type": "code",
   "execution_count": 43,
   "id": "cdf08a87",
   "metadata": {},
   "outputs": [
    {
     "data": {
      "text/plain": [
       "0    2121\n",
       "Name: Country, dtype: int64"
      ]
     },
     "execution_count": 43,
     "metadata": {},
     "output_type": "execute_result"
    }
   ],
   "source": [
    "df['Country'].value_counts()"
   ]
  },
  {
   "cell_type": "code",
   "execution_count": 44,
   "id": "2298576a",
   "metadata": {},
   "outputs": [],
   "source": [
    "#df.info()"
   ]
  },
  {
   "cell_type": "markdown",
   "id": "ae36d6d3",
   "metadata": {},
   "source": [
    "### 4. City"
   ]
  },
  {
   "cell_type": "code",
   "execution_count": 45,
   "id": "31714a6d",
   "metadata": {},
   "outputs": [
    {
     "data": {
      "text/plain": [
       "New York City     192\n",
       "Los Angeles       154\n",
       "Philadelphia      111\n",
       "San Francisco     102\n",
       "Seattle            97\n",
       "                 ... \n",
       "Tyler               1\n",
       "Port Arthur         1\n",
       "Citrus Heights      1\n",
       "Bullhead City       1\n",
       "Indianapolis        1\n",
       "Name: City, Length: 371, dtype: int64"
      ]
     },
     "execution_count": 45,
     "metadata": {},
     "output_type": "execute_result"
    }
   ],
   "source": [
    "df['City'].value_counts()"
   ]
  },
  {
   "cell_type": "code",
   "execution_count": 46,
   "id": "35b15a66",
   "metadata": {},
   "outputs": [
    {
     "data": {
      "text/plain": [
       "371"
      ]
     },
     "execution_count": 46,
     "metadata": {},
     "output_type": "execute_result"
    }
   ],
   "source": [
    "df['City'].nunique()\n",
    "\n",
    "# Observations :-\n",
    "# we are using labelencoder here.\n",
    "# we are not using onehotencoder here, because this column contains 371 unique values.\n",
    "# If we use onehotencoder here, then it increases the many columns in our dataset,\n",
    "# which increase the complecity of our model"
   ]
  },
  {
   "cell_type": "code",
   "execution_count": 47,
   "id": "d0e3ac5b",
   "metadata": {},
   "outputs": [],
   "source": [
    "df['City'] = label_enc.fit_transform(df['City'])"
   ]
  },
  {
   "cell_type": "code",
   "execution_count": 48,
   "id": "7bce80a8",
   "metadata": {},
   "outputs": [],
   "source": [
    "#df['City'].unique()"
   ]
  },
  {
   "cell_type": "markdown",
   "id": "da4e842d",
   "metadata": {},
   "source": [
    "### 5. State"
   ]
  },
  {
   "cell_type": "code",
   "execution_count": 49,
   "id": "9068ba3a",
   "metadata": {},
   "outputs": [
    {
     "name": "stdout",
     "output_type": "stream",
     "text": [
      "{'California': 444, 'New York': 236, 'Texas': 202, 'Pennsylvania': 125, 'Illinois': 123, 'Washington': 114, 'Ohio': 93, 'Florida': 85, 'Virginia': 52, 'Colorado': 51, 'Michigan': 50, 'Arizona': 49, 'Tennessee': 45, 'North Carolina': 42, 'Massachusetts': 33, 'Georgia': 32, 'Wisconsin': 32, 'Kentucky': 30, 'Maryland': 28, 'New Jersey': 26, 'Indiana': 23, 'Oregon': 21, 'Delaware': 18, 'Rhode Island': 16, 'Oklahoma': 15, 'Minnesota': 13, 'Connecticut': 13, 'Louisiana': 11, 'Alabama': 11, 'Missouri': 11, 'Mississippi': 9, 'Arkansas': 9, 'Nevada': 9, 'Utah': 7, 'New Hampshire': 6, 'South Carolina': 6, 'Idaho': 6, 'New Mexico': 4, 'Nebraska': 4, 'Iowa': 4, 'District of Columbia': 3, 'South Dakota': 2, 'Vermont': 2, 'Kansas': 2, 'Maine': 1, 'Wyoming': 1, 'Montana': 1, 'West Virginia': 1}\n"
     ]
    }
   ],
   "source": [
    "print(df['State'].value_counts().to_dict())\n",
    "\n",
    "# Observations :-\n",
    "# here also we are using labelencoder for the same reason mention above."
   ]
  },
  {
   "cell_type": "code",
   "execution_count": 50,
   "id": "1eeadbf9",
   "metadata": {},
   "outputs": [],
   "source": [
    "df['State'] = label_enc.fit_transform(df['State'])"
   ]
  },
  {
   "cell_type": "code",
   "execution_count": 51,
   "id": "5b3cab5f",
   "metadata": {},
   "outputs": [
    {
     "name": "stdout",
     "output_type": "stream",
     "text": [
      "<class 'pandas.core.series.Series'>\n",
      "RangeIndex: 2121 entries, 0 to 2120\n",
      "Series name: State\n",
      "Non-Null Count  Dtype\n",
      "--------------  -----\n",
      "2121 non-null   int32\n",
      "dtypes: int32(1)\n",
      "memory usage: 8.4 KB\n"
     ]
    }
   ],
   "source": [
    "df['State'].info()"
   ]
  },
  {
   "cell_type": "code",
   "execution_count": 52,
   "id": "8894c928",
   "metadata": {},
   "outputs": [],
   "source": [
    "#df.info()"
   ]
  },
  {
   "cell_type": "markdown",
   "id": "a940a309",
   "metadata": {},
   "source": [
    "### 6. Region"
   ]
  },
  {
   "cell_type": "code",
   "execution_count": 53,
   "id": "8a1dd2c3",
   "metadata": {},
   "outputs": [
    {
     "data": {
      "text/plain": [
       "West       707\n",
       "East       601\n",
       "Central    481\n",
       "South      332\n",
       "Name: Region, dtype: int64"
      ]
     },
     "execution_count": 53,
     "metadata": {},
     "output_type": "execute_result"
    }
   ],
   "source": [
    "df['Region'].value_counts()\n",
    "\n",
    "# This column contains ordinal data. So we are using labelencoder here"
   ]
  },
  {
   "cell_type": "code",
   "execution_count": 54,
   "id": "956c3d7b",
   "metadata": {},
   "outputs": [],
   "source": [
    "df['Region'] = label_enc.fit_transform(df['Region'])"
   ]
  },
  {
   "cell_type": "code",
   "execution_count": 55,
   "id": "ae625388",
   "metadata": {},
   "outputs": [
    {
     "data": {
      "text/plain": [
       "3    707\n",
       "1    601\n",
       "0    481\n",
       "2    332\n",
       "Name: Region, dtype: int64"
      ]
     },
     "execution_count": 55,
     "metadata": {},
     "output_type": "execute_result"
    }
   ],
   "source": [
    "df['Region'].value_counts()"
   ]
  },
  {
   "cell_type": "code",
   "execution_count": 56,
   "id": "f86e3c2a",
   "metadata": {},
   "outputs": [],
   "source": [
    "#df.info()"
   ]
  },
  {
   "cell_type": "markdown",
   "id": "e28e2b5e",
   "metadata": {},
   "source": [
    "### 7. Category"
   ]
  },
  {
   "cell_type": "code",
   "execution_count": 57,
   "id": "67f8de27",
   "metadata": {},
   "outputs": [
    {
     "data": {
      "text/plain": [
       "Furniture    2121\n",
       "Name: Category, dtype: int64"
      ]
     },
     "execution_count": 57,
     "metadata": {},
     "output_type": "execute_result"
    }
   ],
   "source": [
    "df['Category'].value_counts()"
   ]
  },
  {
   "cell_type": "code",
   "execution_count": 58,
   "id": "8ad23f87",
   "metadata": {},
   "outputs": [],
   "source": [
    "df['Category'] = df['Category'].replace({'Furniture' : 0})"
   ]
  },
  {
   "cell_type": "code",
   "execution_count": 59,
   "id": "ddc6f955",
   "metadata": {},
   "outputs": [
    {
     "name": "stdout",
     "output_type": "stream",
     "text": [
      "<class 'pandas.core.series.Series'>\n",
      "RangeIndex: 2121 entries, 0 to 2120\n",
      "Series name: Category\n",
      "Non-Null Count  Dtype\n",
      "--------------  -----\n",
      "2121 non-null   int64\n",
      "dtypes: int64(1)\n",
      "memory usage: 16.7 KB\n"
     ]
    }
   ],
   "source": [
    "df['Category'].info()"
   ]
  },
  {
   "cell_type": "code",
   "execution_count": 60,
   "id": "50cb05ba",
   "metadata": {},
   "outputs": [],
   "source": [
    "#df.info()"
   ]
  },
  {
   "cell_type": "markdown",
   "id": "5574922a",
   "metadata": {},
   "source": [
    "### 8. Sub-Category"
   ]
  },
  {
   "cell_type": "code",
   "execution_count": 61,
   "id": "52feb175",
   "metadata": {},
   "outputs": [
    {
     "data": {
      "text/plain": [
       "Furnishings    957\n",
       "Chairs         617\n",
       "Tables         319\n",
       "Bookcases      228\n",
       "Name: Sub-Category, dtype: int64"
      ]
     },
     "execution_count": 61,
     "metadata": {},
     "output_type": "execute_result"
    }
   ],
   "source": [
    "df['Sub-Category'].value_counts()"
   ]
  },
  {
   "cell_type": "code",
   "execution_count": 62,
   "id": "3c1ab39b",
   "metadata": {},
   "outputs": [],
   "source": [
    "# Using onehotencoder here"
   ]
  },
  {
   "cell_type": "code",
   "execution_count": 63,
   "id": "d66720ae",
   "metadata": {},
   "outputs": [],
   "source": [
    "df_sub_categogy = pd.get_dummies(df['Sub-Category'],drop_first=True,prefix='Sub_cat')"
   ]
  },
  {
   "cell_type": "code",
   "execution_count": 64,
   "id": "c15c8c5b",
   "metadata": {},
   "outputs": [
    {
     "data": {
      "text/html": [
       "<div>\n",
       "<style scoped>\n",
       "    .dataframe tbody tr th:only-of-type {\n",
       "        vertical-align: middle;\n",
       "    }\n",
       "\n",
       "    .dataframe tbody tr th {\n",
       "        vertical-align: top;\n",
       "    }\n",
       "\n",
       "    .dataframe thead th {\n",
       "        text-align: right;\n",
       "    }\n",
       "</style>\n",
       "<table border=\"1\" class=\"dataframe\">\n",
       "  <thead>\n",
       "    <tr style=\"text-align: right;\">\n",
       "      <th></th>\n",
       "      <th>Sub_cat_Chairs</th>\n",
       "      <th>Sub_cat_Furnishings</th>\n",
       "      <th>Sub_cat_Tables</th>\n",
       "    </tr>\n",
       "  </thead>\n",
       "  <tbody>\n",
       "    <tr>\n",
       "      <th>0</th>\n",
       "      <td>0</td>\n",
       "      <td>0</td>\n",
       "      <td>0</td>\n",
       "    </tr>\n",
       "    <tr>\n",
       "      <th>1</th>\n",
       "      <td>1</td>\n",
       "      <td>0</td>\n",
       "      <td>0</td>\n",
       "    </tr>\n",
       "    <tr>\n",
       "      <th>2</th>\n",
       "      <td>0</td>\n",
       "      <td>0</td>\n",
       "      <td>1</td>\n",
       "    </tr>\n",
       "    <tr>\n",
       "      <th>3</th>\n",
       "      <td>0</td>\n",
       "      <td>1</td>\n",
       "      <td>0</td>\n",
       "    </tr>\n",
       "    <tr>\n",
       "      <th>4</th>\n",
       "      <td>0</td>\n",
       "      <td>0</td>\n",
       "      <td>1</td>\n",
       "    </tr>\n",
       "    <tr>\n",
       "      <th>...</th>\n",
       "      <td>...</td>\n",
       "      <td>...</td>\n",
       "      <td>...</td>\n",
       "    </tr>\n",
       "    <tr>\n",
       "      <th>2116</th>\n",
       "      <td>0</td>\n",
       "      <td>0</td>\n",
       "      <td>0</td>\n",
       "    </tr>\n",
       "    <tr>\n",
       "      <th>2117</th>\n",
       "      <td>0</td>\n",
       "      <td>1</td>\n",
       "      <td>0</td>\n",
       "    </tr>\n",
       "    <tr>\n",
       "      <th>2118</th>\n",
       "      <td>0</td>\n",
       "      <td>0</td>\n",
       "      <td>1</td>\n",
       "    </tr>\n",
       "    <tr>\n",
       "      <th>2119</th>\n",
       "      <td>0</td>\n",
       "      <td>1</td>\n",
       "      <td>0</td>\n",
       "    </tr>\n",
       "    <tr>\n",
       "      <th>2120</th>\n",
       "      <td>0</td>\n",
       "      <td>1</td>\n",
       "      <td>0</td>\n",
       "    </tr>\n",
       "  </tbody>\n",
       "</table>\n",
       "<p>2121 rows × 3 columns</p>\n",
       "</div>"
      ],
      "text/plain": [
       "      Sub_cat_Chairs  Sub_cat_Furnishings  Sub_cat_Tables\n",
       "0                  0                    0               0\n",
       "1                  1                    0               0\n",
       "2                  0                    0               1\n",
       "3                  0                    1               0\n",
       "4                  0                    0               1\n",
       "...              ...                  ...             ...\n",
       "2116               0                    0               0\n",
       "2117               0                    1               0\n",
       "2118               0                    0               1\n",
       "2119               0                    1               0\n",
       "2120               0                    1               0\n",
       "\n",
       "[2121 rows x 3 columns]"
      ]
     },
     "execution_count": 64,
     "metadata": {},
     "output_type": "execute_result"
    }
   ],
   "source": [
    "df_sub_categogy"
   ]
  },
  {
   "cell_type": "code",
   "execution_count": 65,
   "id": "b379caee",
   "metadata": {},
   "outputs": [],
   "source": [
    "#df.T"
   ]
  },
  {
   "cell_type": "code",
   "execution_count": 66,
   "id": "f902eef8",
   "metadata": {},
   "outputs": [],
   "source": [
    "df.drop('Sub-Category',axis=1,inplace=True)"
   ]
  },
  {
   "cell_type": "code",
   "execution_count": 67,
   "id": "701d7e88",
   "metadata": {},
   "outputs": [],
   "source": [
    "df = pd.concat([df,df_sub_categogy],axis=1)"
   ]
  },
  {
   "cell_type": "code",
   "execution_count": 68,
   "id": "cd8ba354",
   "metadata": {},
   "outputs": [],
   "source": [
    "#df.join(df_sub_categogy)"
   ]
  },
  {
   "cell_type": "code",
   "execution_count": 69,
   "id": "e43bfad2",
   "metadata": {},
   "outputs": [],
   "source": [
    "#df.info()"
   ]
  },
  {
   "cell_type": "markdown",
   "id": "defa6219",
   "metadata": {},
   "source": [
    "### 9. Product Name"
   ]
  },
  {
   "cell_type": "code",
   "execution_count": 70,
   "id": "75a03db3",
   "metadata": {},
   "outputs": [
    {
     "data": {
      "text/plain": [
       "KI Adjustable-Height Table                                                   18\n",
       "Staple-based wall hangings                                                   16\n",
       "Situations Contoured Folding Chairs, 4/Set                                   15\n",
       "Eldon Wave Desk Accessories                                                  14\n",
       "Global Wood Trimmed Manager's Task Chair, Khaki                              14\n",
       "                                                                             ..\n",
       "Bush Saratoga Collection 5-Shelf Bookcase, Hanover Cherry, *Special Order     1\n",
       "Barricks Non-Folding Utility Table with Steel Legs, Laminate Tops             1\n",
       "Bush Westfield Collection Bookcases, Dark Cherry Finish, Fully Assembled      1\n",
       "Global Enterprise Series Seating Low-Back Swivel/Tilt Chairs                  1\n",
       "Ultra Commercial Grade Dual Valve Door Closer                                 1\n",
       "Name: Product Name, Length: 380, dtype: int64"
      ]
     },
     "execution_count": 70,
     "metadata": {},
     "output_type": "execute_result"
    }
   ],
   "source": [
    "df['Product Name'].value_counts()\n",
    "\n",
    "# Observations :-\n",
    "# This variable contains 360 unique values.\n",
    "# Though this column doesn't contains ordinal data, but we are using labelencoder here.\n",
    "# Because using onehotencoder, it increases the number of columns, which is going to increase the complexity of our model.\n",
    "# so we prefer labelencoder here."
   ]
  },
  {
   "cell_type": "code",
   "execution_count": 71,
   "id": "af30fbf9",
   "metadata": {},
   "outputs": [
    {
     "data": {
      "text/plain": [
       "380"
      ]
     },
     "execution_count": 71,
     "metadata": {},
     "output_type": "execute_result"
    }
   ],
   "source": [
    "df['Product Name'].nunique()"
   ]
  },
  {
   "cell_type": "code",
   "execution_count": 72,
   "id": "1c2aa1f1",
   "metadata": {},
   "outputs": [],
   "source": [
    "df['Product Name'] = label_enc.fit_transform(df['Product Name'])"
   ]
  },
  {
   "cell_type": "code",
   "execution_count": 73,
   "id": "0856add0",
   "metadata": {},
   "outputs": [
    {
     "name": "stdout",
     "output_type": "stream",
     "text": [
      "<class 'pandas.core.series.Series'>\n",
      "RangeIndex: 2121 entries, 0 to 2120\n",
      "Series name: Product Name\n",
      "Non-Null Count  Dtype\n",
      "--------------  -----\n",
      "2121 non-null   int32\n",
      "dtypes: int32(1)\n",
      "memory usage: 8.4 KB\n"
     ]
    }
   ],
   "source": [
    "df['Product Name'].info()"
   ]
  },
  {
   "cell_type": "code",
   "execution_count": 74,
   "id": "8c3acde3",
   "metadata": {},
   "outputs": [],
   "source": [
    "#df.info()"
   ]
  },
  {
   "cell_type": "code",
   "execution_count": 75,
   "id": "73f000cd",
   "metadata": {},
   "outputs": [],
   "source": [
    "df.drop(['Order Month name','Ship Month Name'],axis=1,inplace=True)"
   ]
  },
  {
   "cell_type": "code",
   "execution_count": 76,
   "id": "480b8aec",
   "metadata": {},
   "outputs": [],
   "source": [
    "#df.info()"
   ]
  },
  {
   "cell_type": "code",
   "execution_count": 77,
   "id": "c97babbe",
   "metadata": {},
   "outputs": [
    {
     "data": {
      "text/plain": [
       "707"
      ]
     },
     "execution_count": 77,
     "metadata": {},
     "output_type": "execute_result"
    }
   ],
   "source": [
    "df['Customer ID'].nunique()"
   ]
  },
  {
   "cell_type": "code",
   "execution_count": 78,
   "id": "e191d4de",
   "metadata": {},
   "outputs": [],
   "source": [
    "#df['Customer Name'].value_counts()"
   ]
  },
  {
   "cell_type": "code",
   "execution_count": 79,
   "id": "02188032",
   "metadata": {},
   "outputs": [],
   "source": [
    "# droping some columns here.\n",
    "\n",
    "df.drop(['Customer ID', 'Customer Name'],axis=1,inplace=True)"
   ]
  },
  {
   "cell_type": "code",
   "execution_count": 80,
   "id": "07a5e153",
   "metadata": {},
   "outputs": [],
   "source": [
    "df.drop('Product ID',axis=1,inplace=True)"
   ]
  },
  {
   "cell_type": "code",
   "execution_count": 81,
   "id": "da2cc416",
   "metadata": {},
   "outputs": [],
   "source": [
    "#df.drop(['Order Month name','Ship Month Name'],axis=1,inplace=True)"
   ]
  },
  {
   "cell_type": "markdown",
   "id": "3d97cde7",
   "metadata": {},
   "source": [
    "## C. Handling Outliers"
   ]
  },
  {
   "cell_type": "code",
   "execution_count": 82,
   "id": "38f51b6a",
   "metadata": {},
   "outputs": [
    {
     "name": "stdout",
     "output_type": "stream",
     "text": [
      "<class 'pandas.core.frame.DataFrame'>\n",
      "RangeIndex: 2121 entries, 0 to 2120\n",
      "Data columns (total 22 columns):\n",
      " #   Column               Non-Null Count  Dtype  \n",
      "---  ------               --------------  -----  \n",
      " 0   Ship Mode            2121 non-null   int32  \n",
      " 1   Segment              2121 non-null   int64  \n",
      " 2   Country              2121 non-null   int64  \n",
      " 3   City                 2121 non-null   int32  \n",
      " 4   State                2121 non-null   int32  \n",
      " 5   Postal Code          2121 non-null   int64  \n",
      " 6   Region               2121 non-null   int32  \n",
      " 7   Category             2121 non-null   int64  \n",
      " 8   Product Name         2121 non-null   int32  \n",
      " 9   Sales                2121 non-null   float64\n",
      " 10  Quantity             2121 non-null   int64  \n",
      " 11  Discount             2121 non-null   float64\n",
      " 12  Profit               2121 non-null   float64\n",
      " 13  Order Year           2121 non-null   int64  \n",
      " 14  Order Month          2121 non-null   int64  \n",
      " 15  Order Day            2121 non-null   int64  \n",
      " 16  Ship Year            2121 non-null   int64  \n",
      " 17  Ship Month           2121 non-null   int64  \n",
      " 18  Ship Day             2121 non-null   int64  \n",
      " 19  Sub_cat_Chairs       2121 non-null   uint8  \n",
      " 20  Sub_cat_Furnishings  2121 non-null   uint8  \n",
      " 21  Sub_cat_Tables       2121 non-null   uint8  \n",
      "dtypes: float64(3), int32(5), int64(11), uint8(3)\n",
      "memory usage: 279.7 KB\n"
     ]
    }
   ],
   "source": [
    "df.info()"
   ]
  },
  {
   "cell_type": "markdown",
   "id": "d6b80e1d",
   "metadata": {},
   "source": [
    "### 1. Profit"
   ]
  },
  {
   "cell_type": "code",
   "execution_count": 83,
   "id": "960623cf",
   "metadata": {},
   "outputs": [
    {
     "data": {
      "text/plain": [
       "<AxesSubplot:title={'center':'before handling outliers'}, xlabel='Profit'>"
      ]
     },
     "execution_count": 83,
     "metadata": {},
     "output_type": "execute_result"
    },
    {
     "data": {
      "image/png": "[encoded data removed]",
      "text/plain": [
       "<Figure size 432x288 with 1 Axes>"
      ]
     },
     "metadata": {
      "needs_background": "light"
     },
     "output_type": "display_data"
    }
   ],
   "source": [
    "plt.title('before handling outliers')\n",
    "sns.boxplot(df['Profit'])\n",
    "\n",
    "# Observations :-\n",
    "# we see from boxplot that many outliers are present in the variable."
   ]
  },
  {
   "cell_type": "code",
   "execution_count": 84,
   "id": "990e70aa",
   "metadata": {},
   "outputs": [
    {
     "data": {
      "text/plain": [
       "<AxesSubplot:xlabel='Profit', ylabel='Density'>"
      ]
     },
     "execution_count": 84,
     "metadata": {},
     "output_type": "execute_result"
    },
    {
     "data": {
      "image/png": "[encoded data removed]",
      "text/plain": [
       "<Figure size 432x288 with 1 Axes>"
      ]
     },
     "metadata": {
      "needs_background": "light"
     },
     "output_type": "display_data"
    }
   ],
   "source": [
    "sns.kdeplot(df['Profit'],fill=True)"
   ]
  },
  {
   "cell_type": "code",
   "execution_count": 85,
   "id": "3fa2c42f",
   "metadata": {},
   "outputs": [],
   "source": [
    "# using z-score\n",
    "\n",
    "#outliers_1 = []\n",
    "#threshold = 3\n",
    "\n",
    "#mean = np.mean(df['Profit'])\n",
    "#std = np.std(df['Profit'])\n",
    "\n",
    "#print('mean of a variable is :-', mean)\n",
    "#print('std of a variable is :-', std)\n",
    "#for x in df['Profit']:\n",
    "#    z_score = (x - mean)/std\n",
    "#    if np.abs(z_score) > threshold:\n",
    "#        outliers_1.append(x)\n",
    "        \n",
    "#print('Detected outliers are :- ', outliers_1, len(outliers_1))"
   ]
  },
  {
   "cell_type": "code",
   "execution_count": 86,
   "id": "6b8d345f",
   "metadata": {},
   "outputs": [
    {
     "name": "stdout",
     "output_type": "stream",
     "text": [
      "25 percentile :-  -12.849\n",
      "75 percentile :-  33.7266\n",
      "Lower Range :- -82.71239999999999\n",
      "Upper Range :- 103.58999999999997\n",
      "Dected outliers are :-  [219.582, -383.031, 240.2649, -1665.0522, -147.963, -114.3912, 165.3813, -407.682, 585.552, 112.392, -161.875, -244.323, 136.939, -102.048, -248.2458, -356.728, -120.513, 580.5394, -131.445, -258.5016, 271.4192, -297.6848, -157.0095, -317.1528, -112.9527, 225.264, -96.1146, -814.4832, -312.0614, -94.941, -84.2928, -217.048, 272.792, -118.1295, -110.49, 231.4116, -153.3456, -167.3184, 179.7488, 311.652, 262.39, -204.4458, -619.596, 131.2785, -290.8752, 356.0414, 316.8825, 213.735, 146.4036, 121.7601, -264.9208, 224.2674, 493.7856, 135.4068, 139.5702, -88.784, 166.1004, -146.1096, -786.744, 118.6575, -90.2484, -430.617, -204.4458, 163.7874, -350.49, -87.3418, 226.9644, 173.7408, -175.8708, 116.872, 203.5644, 196.686, -295.9785, -153.1224, 175.136, 155.25, -373.3048, -227.4912, 113.4936, 321.84, -566.5625, 673.8816, 245.021, -465.568, -122.877, -110.7645, -93.3262, 213.735, 105.0228, 215.1198, 244.2496, 412.5394, -97.7394, -347.1174, -150.414, -98.8018, -115.7058, 297.69, 106.477, 188.2192, 200.9546, -447.5947, -553.6476, -122.7816, -225.0976, -104.673, 114.6285, -99.2664, -99.1764, 250.305, -219.1644, 213.6888, 140.686, 239.9058, -300.735, -121.8735, 143.04, 213.6888, -142.071, 212.1876, -140.1408, -130.0104, 111.1035, -97.2312, 284.98, 374.6286, 427.4368, -170.8038, -103.266, 256.784, -140.196, -182.637, 108.3528, -240.784, -427.45, 394.268, -103.9882, -195.4788, 300.735, -92.7996, 181.176, -117.882, -525.6405, 388.8128, 200.49, -93.99, -325.572, 106.5408, -192.0468, 200.49, 306.4894, 423.0085, 119.2, -109.5822, -269.3376, -182.352, 210.594, -211.47, -448.896, 356.225, 124.2, 189.4046, -127.5792, 199.2606, 172.4814, 160.1766, 481.47, -348.6294, 272.792, 150.384, 177.4206, -160.2952, -225.0976, 148.138, 190.4298, -120.513, 140.396, 148.704, -126.4816, 252.59, 523.7052, 160.1586, 225.735, -189.321, 141.1644, -119.1918, 136.665, -209.7693, 146.388, -143.7904, -248.166, 121.99, 150.294, 292.776, 251.202, 266.4522, 149.148, -356.9643, 111.1035, 191.6586, -437.5404, -653.2834, -95.67, -131.951, -120.372, -108.3348, 292.776, 105.297, -178.8468, 259.8896, 112.788, 700.98, -91.7586, 394.212, 134.5302, 145.2816, 178.8, -152.9847, 386.835, -1002.7836, 235.9524, -320.597, -183.6324, -218.8656, 122.7648, 399.2994, -339.705, 149.148, 210.735, -264.215, -90.3762, 141.1644, 185.2578, -184.8366, 225.264, 209.274, -384.7164, 104.7528, 294.671, -99.6219, 158.5764, -120.0508, 316.1392, -250.5408, 111.774, 126.225, -137.529, -147.8655, 173.235, -97.176, 609.7157, 375.735, -83.8752, -128.2388, 161.9674, 422.51, 207.8856, -103.8606, -231.4116, -87.9354, 168.4704, -97.5528, -105.69, -167.986, 198.46, -299.2614, -97.4988, -115.4304, 105.98, -147.8655, -172.1172, 169.182, 244.2496, -84.8232, 629.01, -734.5264, -304.6653, -185.7168, -292.9872, 143.6288, 307.1448, 407.1288, 180.441, 314.0586, -95.2476, 125.245, 401.814, 770.352, -163.5767, -110.0232, 111.517, -149.6307, 320.3172, 240.294, -135.087, 227.205, -114.3534, -630.882, -199.617, -175.26, -152.7156, -420.0, -192.0468, 387.5676, -120.0508, 173.3292, -94.6605, 119.686, 125.5824, 746.4078, -108.2662, -105.3164, 148.845, 148.704, -363.528, -216.9783, 112.3508, 112.788, 314.0384, -464.697, 151.47, 329.4081, 157.1292, 373.779, -292.1, 140.9568, 106.6248, -191.646, -302.72, -118.0116, 137.54, -93.4724, -190.8522, -247.7988, 383.931, -93.99, -187.3815, -255.5875, 366.6348, -188.7, -480.2032, 115.5528, 291.3778, -458.1468, 313.2624, -112.041, -169.637, -199.5076, -173.3472, 129.294, 112.422, -127.5792, -93.4724, 241.1046, -110.0232, 158.529, 378.274, -120.294, -89.0664, -119.2312, 259.5297, 107.0388, 267.6672, -538.446, -113.282, -249.3216, -194.824, -99.2664, -968.8833, -124.431, 146.388, 553.3902, 334.551, -136.4895, -376.6932, -84.448, -241.176, 176.8026, -204.9996, 346.0396, -84.9615, -84.2928, -106.393, 202.2528, -99.3453, -86.0586, 140.396, 420.588, 138.417, 168.4704, -137.976, 350.427, -114.0174, -378.4, -213.5574, -96.4704, 260.6112, -1862.3124, 160.3136, 297.69, 145.0696, 1013.127, 132.99, 610.8624, -143.2548, -143.431, 539.2464] 407\n"
     ]
    }
   ],
   "source": [
    "# using iqr method\n",
    "\n",
    "q1,q3 = np.percentile(df['Profit'],(25,75))\n",
    "print('25 percentile :- ', q1)\n",
    "print('75 percentile :- ', q3)\n",
    "\n",
    "iqr = q3 - q1\n",
    "lower_range = q1 - 1.5*(iqr)\n",
    "upper_range = q3 + 1.5*(iqr)\n",
    "\n",
    "print('Lower Range :-', lower_range)\n",
    "print('Upper Range :-', upper_range)\n",
    "outliers_2 = []\n",
    "for x in df['Profit']:\n",
    "    if (x < lower_range) or (x> upper_range):\n",
    "        outliers_2.append(x)\n",
    "        \n",
    "print('Dected outliers are :- ', outliers_2, len(outliers_2))"
   ]
  },
  {
   "cell_type": "code",
   "execution_count": 87,
   "id": "49e23bdd",
   "metadata": {},
   "outputs": [],
   "source": [
    "df.loc[df['Profit'] < lower_range, 'Profit'] = lower_range\n",
    "df.loc[df['Profit'] > upper_range, 'Profit'] = upper_range"
   ]
  },
  {
   "cell_type": "code",
   "execution_count": 88,
   "id": "07f04802",
   "metadata": {},
   "outputs": [
    {
     "data": {
      "text/plain": [
       "<AxesSubplot:title={'center':'after handling outliers'}, xlabel='Profit'>"
      ]
     },
     "execution_count": 88,
     "metadata": {},
     "output_type": "execute_result"
    },
    {
     "data": {
      "image/png": "[encoded data removed]",
      "text/plain": [
       "<Figure size 432x288 with 1 Axes>"
      ]
     },
     "metadata": {
      "needs_background": "light"
     },
     "output_type": "display_data"
    }
   ],
   "source": [
    "plt.title('after handling outliers')\n",
    "sns.boxplot(df['Profit'])\n",
    "\n",
    "# Observations :-\n",
    "# We are caping outliers to lower and upper range.\n",
    "# We see fromboxplot, that outliers are completely removed."
   ]
  },
  {
   "cell_type": "code",
   "execution_count": 89,
   "id": "80107a5c",
   "metadata": {},
   "outputs": [
    {
     "data": {
      "text/plain": [
       "<AxesSubplot:xlabel='Profit', ylabel='Density'>"
      ]
     },
     "execution_count": 89,
     "metadata": {},
     "output_type": "execute_result"
    },
    {
     "data": {
      "image/png": "[encoded data removed]",
      "text/plain": [
       "<Figure size 432x288 with 1 Axes>"
      ]
     },
     "metadata": {
      "needs_background": "light"
     },
     "output_type": "display_data"
    }
   ],
   "source": [
    "sns.kdeplot(df['Profit'],fill=True)"
   ]
  },
  {
   "cell_type": "code",
   "execution_count": 90,
   "id": "2b34f7bb",
   "metadata": {},
   "outputs": [],
   "source": [
    "#sns.scatterplot(x='Profit',y='Sales',data=df)"
   ]
  },
  {
   "cell_type": "markdown",
   "id": "b09f2d99",
   "metadata": {},
   "source": [
    "### 2. Quantity"
   ]
  },
  {
   "cell_type": "code",
   "execution_count": 91,
   "id": "d6112455",
   "metadata": {},
   "outputs": [
    {
     "data": {
      "text/plain": [
       "array([ 2,  3,  5,  7,  9,  1,  4,  8,  6, 14, 13, 10, 11, 12],\n",
       "      dtype=int64)"
      ]
     },
     "execution_count": 91,
     "metadata": {},
     "output_type": "execute_result"
    }
   ],
   "source": [
    "df['Quantity'].unique()"
   ]
  },
  {
   "cell_type": "code",
   "execution_count": 92,
   "id": "7d8187fe",
   "metadata": {},
   "outputs": [
    {
     "data": {
      "text/plain": [
       "<AxesSubplot:title={'center':'before handling outliers'}, xlabel='Quantity'>"
      ]
     },
     "execution_count": 92,
     "metadata": {},
     "output_type": "execute_result"
    },
    {
     "data": {
      "image/png": "[encoded data removed]",
      "text/plain": [
       "<Figure size 432x288 with 1 Axes>"
      ]
     },
     "metadata": {
      "needs_background": "light"
     },
     "output_type": "display_data"
    }
   ],
   "source": [
    "df['Quantity'].value_counts()\n",
    "plt.title('before handling outliers')\n",
    "sns.boxplot(df['Quantity'])\n",
    "\n",
    "# Observations :-\n",
    "# Though ir look like a numerical variable, but ts counted as a categorical variable.\n",
    "# so we are imputing outliers with a mode value"
   ]
  },
  {
   "cell_type": "code",
   "execution_count": 93,
   "id": "1aba1b5e",
   "metadata": {},
   "outputs": [
    {
     "name": "stdout",
     "output_type": "stream",
     "text": [
      "25 percentile :-  2.0\n",
      "75 percentile :-  5.0\n",
      "lower range :- -2.5\n",
      "upper range :- 9.5\n",
      "Dected outliers are :-  [14, 13, 10, 11, 12, 13, 14, 12, 14, 13, 11, 10, 12, 11, 11, 11, 10, 10, 11, 14, 10, 11, 14, 10, 10, 12, 14, 10, 12, 10, 10, 14, 10, 12, 11, 10, 14, 13, 13] 39\n"
     ]
    }
   ],
   "source": [
    "# using iqr method\n",
    "\n",
    "q1,q3 = np.percentile(df['Quantity'],(25,75))\n",
    "print('25 percentile :- ', q1)\n",
    "print('75 percentile :- ', q3)\n",
    "\n",
    "iqr = q3 - q1\n",
    "lower_range = q1 - 1.5*(iqr)\n",
    "upper_range = q3 + 1.5*(iqr)\n",
    "print('lower range :-', lower_range)\n",
    "print('upper range :-', upper_range)\n",
    "outliers_3 = []\n",
    "for x in df['Quantity']:\n",
    "    if (x < lower_range) or (x> upper_range):\n",
    "        outliers_3.append(x)\n",
    "        \n",
    "print('Dected outliers are :- ', outliers_3, len(outliers_3))"
   ]
  },
  {
   "cell_type": "code",
   "execution_count": 94,
   "id": "10bec4f4",
   "metadata": {},
   "outputs": [
    {
     "data": {
      "text/plain": [
       "3"
      ]
     },
     "execution_count": 94,
     "metadata": {},
     "output_type": "execute_result"
    }
   ],
   "source": [
    "df['Quantity'].mode()[0]"
   ]
  },
  {
   "cell_type": "code",
   "execution_count": 95,
   "id": "a5d38699",
   "metadata": {},
   "outputs": [],
   "source": [
    "df.loc[df['Quantity'] < lower_range, 'Quantity'] = np.nan\n",
    "df.loc[df['Quantity'] > upper_range, 'Quantity'] = np.nan"
   ]
  },
  {
   "cell_type": "code",
   "execution_count": 96,
   "id": "e499a025",
   "metadata": {},
   "outputs": [
    {
     "data": {
      "text/plain": [
       "3.0"
      ]
     },
     "execution_count": 96,
     "metadata": {},
     "output_type": "execute_result"
    }
   ],
   "source": [
    "df['Quantity'].mode()[0]"
   ]
  },
  {
   "cell_type": "code",
   "execution_count": 97,
   "id": "015c4674",
   "metadata": {},
   "outputs": [],
   "source": [
    "df['Quantity'] = df['Quantity'].fillna(df['Quantity'].mode()[0])"
   ]
  },
  {
   "cell_type": "code",
   "execution_count": 98,
   "id": "5ef3becd",
   "metadata": {},
   "outputs": [
    {
     "data": {
      "text/plain": [
       "<AxesSubplot:title={'center':'after handling outliers'}, xlabel='Quantity'>"
      ]
     },
     "execution_count": 98,
     "metadata": {},
     "output_type": "execute_result"
    },
    {
     "data": {
      "image/png": "[encoded data removed]",
      "text/plain": [
       "<Figure size 432x288 with 1 Axes>"
      ]
     },
     "metadata": {
      "needs_background": "light"
     },
     "output_type": "display_data"
    }
   ],
   "source": [
    "plt.title('after handling outliers')\n",
    "sns.boxplot(df['Quantity'])\n",
    "\n",
    "# Observations :-\n",
    "# Outliers are completely removed."
   ]
  },
  {
   "cell_type": "code",
   "execution_count": 99,
   "id": "275d6288",
   "metadata": {},
   "outputs": [],
   "source": [
    "#df.info()"
   ]
  },
  {
   "cell_type": "markdown",
   "id": "8a835024",
   "metadata": {},
   "source": [
    "### 3. Discount"
   ]
  },
  {
   "cell_type": "code",
   "execution_count": 100,
   "id": "0b77da14",
   "metadata": {},
   "outputs": [
    {
     "data": {
      "text/plain": [
       "<AxesSubplot:xlabel='Discount'>"
      ]
     },
     "execution_count": 100,
     "metadata": {},
     "output_type": "execute_result"
    },
    {
     "data": {
      "image/png": "[encoded data removed]",
      "text/plain": [
       "<Figure size 432x288 with 1 Axes>"
      ]
     },
     "metadata": {
      "needs_background": "light"
     },
     "output_type": "display_data"
    }
   ],
   "source": [
    "sns.boxplot(df['Discount'])\n",
    "\n",
    "# Observations :-\n",
    "# This variable not contain any outliers."
   ]
  },
  {
   "cell_type": "markdown",
   "id": "bffc5c85",
   "metadata": {},
   "source": [
    "## checking outliers for target variable"
   ]
  },
  {
   "cell_type": "code",
   "execution_count": 101,
   "id": "7ab6742e",
   "metadata": {},
   "outputs": [
    {
     "data": {
      "text/plain": [
       "<AxesSubplot:xlabel='Sales', ylabel='Density'>"
      ]
     },
     "execution_count": 101,
     "metadata": {},
     "output_type": "execute_result"
    },
    {
     "data": {
      "image/png": "[encoded data removed]",
      "text/plain": [
       "<Figure size 432x288 with 1 Axes>"
      ]
     },
     "metadata": {
      "needs_background": "light"
     },
     "output_type": "display_data"
    }
   ],
   "source": [
    "sns.distplot(df['Sales'])\n",
    "\n",
    "# Observations :\n",
    "# highly positively skewed data here.\n",
    "# need log transformation to convert to nearly normally distrubuted data."
   ]
  },
  {
   "cell_type": "code",
   "execution_count": 102,
   "id": "54fc8516",
   "metadata": {},
   "outputs": [
    {
     "data": {
      "text/plain": [
       "<AxesSubplot:title={'center':'before handling outliers'}, xlabel='Sales'>"
      ]
     },
     "execution_count": 102,
     "metadata": {},
     "output_type": "execute_result"
    },
    {
     "data": {
      "image/png": "[encoded data removed]",
      "text/plain": [
       "<Figure size 432x288 with 1 Axes>"
      ]
     },
     "metadata": {
      "needs_background": "light"
     },
     "output_type": "display_data"
    }
   ],
   "source": [
    "plt.title('before handling outliers')\n",
    "sns.boxplot(df['Sales'])\n",
    "\n",
    "# Observations :-\n",
    "# many outliers present in our target column.\n",
    "# need to handle these outliers "
   ]
  },
  {
   "cell_type": "code",
   "execution_count": 103,
   "id": "25cd2334",
   "metadata": {},
   "outputs": [
    {
     "name": "stdout",
     "output_type": "stream",
     "text": [
      "25 percentile :-  47.04\n",
      "75 percentile :-  435.168\n",
      "lower range :- -535.152\n",
      "upper range :- 1017.36\n",
      "Dected outliers are :-  [1706.184, 1044.63, 3083.43, 1951.84, 1740.06, 2001.86, 1038.84, 1043.92, 1488.424, 2396.2656, 1336.829, 1272.63, 1121.568, 1335.68, 1049.2, 1652.94, 1298.55, 1228.465, 1242.9, 1114.272, 2065.32, 1166.92, 1090.782, 1618.37, 1267.53, 1106.91, 1067.94, 2244.48, 3610.848, 1141.938, 1819.86, 2453.43, 1024.716, 1669.6, 1573.488, 1044.63, 1018.104, 1931.04, 1048.35, 2807.84, 1441.3, 1282.41, 1024.38, 1586.69, 1212.96, 1552.831, 1579.746, 1071.576, 1322.352, 1137.75, 1348.704, 1406.86, 2665.62, 1218.735, 1292.94, 1139.92, 1603.136, 1628.82, 1526.56, 2054.272, 1123.92, 1408.1, 1421.664, 1202.94, 2430.08, 2003.52, 1056.86, 1458.65, 1684.752, 1424.9, 1604.9, 1049.2, 1487.04, 1805.88, 1279.165, 2404.704, 1268.82, 1325.76, 1352.3976, 1781.682, 1317.492, 1367.84, 3504.9, 1516.2, 2275.5, 2314.116, 1025.88, 1478.272, 2348.82, 1256.22, 1325.76, 1194.165, 1448.82, 1133.35, 1603.136, 1293.488, 4228.704, 2003.92, 1215.92, 2888.127, 2254.41, 1474.802, 1537.074, 1198.33, 1690.04, 1159.056, 4007.84, 1522.638, 1747.25, 1421.664, 1059.12, 1565.88, 2887.056, 1652.94, 2003.92, 1913.4, 2567.84, 1403.92, 1685.88, 4416.174, 1336.44, 1196.86, 2573.82, 1053.164, 1487.04, 1207.84, 1352.032, 1548.99, 1568.61, 1779.9, 1497.666, 1184.72, 1673.184, 1323.9, 2036.86, 1252.704, 1266.86, 2803.92, 2563.056, 2154.9, 2678.94, 1056.86, 1454.9, 1227.9984, 1128.39, 2676.672, 1875.258, 2621.322, 1115.17, 1504.52, 1079.316, 2803.92, 3785.292, 1212.96, 1592.85, 1125.488, 1628.82, 4297.644, 3406.664, 4404.9, 1403.92, 1023.332, 3393.68, 1925.88] 164\n"
     ]
    }
   ],
   "source": [
    "# using iqr method\n",
    "\n",
    "q1,q3 = np.percentile(df['Sales'],(25,75))\n",
    "print('25 percentile :- ', q1)\n",
    "print('75 percentile :- ', q3)\n",
    "\n",
    "iqr = q3 - q1\n",
    "lower_range = q1 - 1.5*(iqr)\n",
    "upper_range = q3 + 1.5*(iqr)\n",
    "print('lower range :-', lower_range)\n",
    "print('upper range :-', upper_range)\n",
    "outliers_4 = []\n",
    "for x in df['Sales']:\n",
    "    if (x < lower_range) or (x> upper_range):\n",
    "        outliers_4.append(x)\n",
    "        \n",
    "print('Dected outliers are :- ', outliers_4, len(outliers_4))"
   ]
  },
  {
   "cell_type": "code",
   "execution_count": 104,
   "id": "77fd09c5",
   "metadata": {},
   "outputs": [],
   "source": [
    "# Observations :-\n",
    "# it is a target variable, so we are not going to manipulate this target variable.\n",
    "# Because with this, we may get good accuracy with training data.\n",
    "# But model will not be robust for unseen data and it will make errors."
   ]
  },
  {
   "cell_type": "code",
   "execution_count": 105,
   "id": "1138dac4",
   "metadata": {},
   "outputs": [],
   "source": [
    "# Best Strategy to handle outliers from target variable is :-\n",
    "# [1]. Either use Log transformation.\n",
    "# [2]. or Remove extreme values from target variable."
   ]
  },
  {
   "cell_type": "code",
   "execution_count": 106,
   "id": "5150a2fb",
   "metadata": {},
   "outputs": [],
   "source": [
    "# Performing log transformation \n",
    "\n",
    "df['Sales'] = np.log(df['Sales'])"
   ]
  },
  {
   "cell_type": "code",
   "execution_count": 107,
   "id": "7fee6a1b",
   "metadata": {},
   "outputs": [
    {
     "data": {
      "text/plain": [
       "<AxesSubplot:title={'center':'after handling outliers'}, xlabel='Sales'>"
      ]
     },
     "execution_count": 107,
     "metadata": {},
     "output_type": "execute_result"
    },
    {
     "data": {
      "image/png": "[encoded data removed]",
      "text/plain": [
       "<Figure size 432x288 with 1 Axes>"
      ]
     },
     "metadata": {
      "needs_background": "light"
     },
     "output_type": "display_data"
    }
   ],
   "source": [
    "plt.title('after handling outliers')\n",
    "sns.boxplot(df['Sales'])\n",
    "\n",
    "# Observations :-\n",
    "# By log transformation, outliers are completely removed from target variable."
   ]
  },
  {
   "cell_type": "code",
   "execution_count": 108,
   "id": "65356d10",
   "metadata": {},
   "outputs": [
    {
     "name": "stdout",
     "output_type": "stream",
     "text": [
      "<class 'pandas.core.frame.DataFrame'>\n",
      "RangeIndex: 2121 entries, 0 to 2120\n",
      "Data columns (total 22 columns):\n",
      " #   Column               Non-Null Count  Dtype  \n",
      "---  ------               --------------  -----  \n",
      " 0   Ship Mode            2121 non-null   int32  \n",
      " 1   Segment              2121 non-null   int64  \n",
      " 2   Country              2121 non-null   int64  \n",
      " 3   City                 2121 non-null   int32  \n",
      " 4   State                2121 non-null   int32  \n",
      " 5   Postal Code          2121 non-null   int64  \n",
      " 6   Region               2121 non-null   int32  \n",
      " 7   Category             2121 non-null   int64  \n",
      " 8   Product Name         2121 non-null   int32  \n",
      " 9   Sales                2121 non-null   float64\n",
      " 10  Quantity             2121 non-null   float64\n",
      " 11  Discount             2121 non-null   float64\n",
      " 12  Profit               2121 non-null   float64\n",
      " 13  Order Year           2121 non-null   int64  \n",
      " 14  Order Month          2121 non-null   int64  \n",
      " 15  Order Day            2121 non-null   int64  \n",
      " 16  Ship Year            2121 non-null   int64  \n",
      " 17  Ship Month           2121 non-null   int64  \n",
      " 18  Ship Day             2121 non-null   int64  \n",
      " 19  Sub_cat_Chairs       2121 non-null   uint8  \n",
      " 20  Sub_cat_Furnishings  2121 non-null   uint8  \n",
      " 21  Sub_cat_Tables       2121 non-null   uint8  \n",
      "dtypes: float64(4), int32(5), int64(10), uint8(3)\n",
      "memory usage: 279.7 KB\n"
     ]
    }
   ],
   "source": [
    "df.info()"
   ]
  },
  {
   "cell_type": "markdown",
   "id": "bf8df249",
   "metadata": {},
   "source": [
    "## Splitting the data"
   ]
  },
  {
   "cell_type": "code",
   "execution_count": 109,
   "id": "5f172575",
   "metadata": {},
   "outputs": [],
   "source": [
    "x = df.drop('Sales',axis=1)\n",
    "y = df['Sales']"
   ]
  },
  {
   "cell_type": "code",
   "execution_count": 110,
   "id": "4d1eaf5c",
   "metadata": {},
   "outputs": [],
   "source": [
    "x_train,x_test,y_train,y_test = train_test_split(x,y,test_size=0.2,random_state=1)"
   ]
  },
  {
   "cell_type": "code",
   "execution_count": null,
   "id": "f4508def",
   "metadata": {},
   "outputs": [],
   "source": []
  },
  {
   "cell_type": "markdown",
   "id": "40d6876c",
   "metadata": {},
   "source": [
    "# 5.Feature selection"
   ]
  },
  {
   "cell_type": "markdown",
   "id": "e997e366",
   "metadata": {},
   "source": [
    "### 1. Information gain"
   ]
  },
  {
   "cell_type": "code",
   "execution_count": 111,
   "id": "2d7ba7b0",
   "metadata": {},
   "outputs": [],
   "source": [
    "from sklearn.feature_selection import mutual_info_regression"
   ]
  },
  {
   "cell_type": "code",
   "execution_count": 112,
   "id": "4178cd95",
   "metadata": {},
   "outputs": [],
   "source": [
    "#df.replace([np.inf, -np.inf,np.nan], 0 ,inplace=True)"
   ]
  },
  {
   "cell_type": "code",
   "execution_count": 113,
   "id": "98c67f0c",
   "metadata": {},
   "outputs": [],
   "source": [
    "#np.isnan(df).sum()"
   ]
  },
  {
   "cell_type": "code",
   "execution_count": 114,
   "id": "2a06bcd1",
   "metadata": {},
   "outputs": [
    {
     "data": {
      "text/plain": [
       "array([0.00000000e+00, 0.00000000e+00, 1.07138314e-03, 1.36857552e-02,\n",
       "       6.23376949e-02, 5.64207603e-02, 5.52076354e-02, 2.10037429e-04,\n",
       "       4.73691923e-01, 2.72749344e-01, 2.71520519e-01, 9.11789636e-01,\n",
       "       1.07248189e-02, 0.00000000e+00, 8.59336045e-03, 7.12477857e-03,\n",
       "       0.00000000e+00, 2.71667307e-03, 1.47409688e-01, 3.53564262e-01,\n",
       "       8.29835632e-02])"
      ]
     },
     "execution_count": 114,
     "metadata": {},
     "output_type": "execute_result"
    }
   ],
   "source": [
    "info_gain = mutual_info_regression(x,y)\n",
    "info_gain\n"
   ]
  },
  {
   "cell_type": "code",
   "execution_count": 115,
   "id": "a4474b61",
   "metadata": {},
   "outputs": [
    {
     "data": {
      "text/plain": [
       "<AxesSubplot:>"
      ]
     },
     "execution_count": 115,
     "metadata": {},
     "output_type": "execute_result"
    },
    {
     "data": {
      "image/png": "[encoded data removed]",
      "text/plain": [
       "<Figure size 576x432 with 1 Axes>"
      ]
     },
     "metadata": {
      "needs_background": "light"
     },
     "output_type": "display_data"
    }
   ],
   "source": [
    "plt.figure(figsize=(8,6))\n",
    "A = pd.Series(info_gain)\n",
    "A.index = x.columns\n",
    "A.sort_values(ascending=False).plot(kind='barh')"
   ]
  },
  {
   "cell_type": "code",
   "execution_count": 116,
   "id": "defdabd6",
   "metadata": {},
   "outputs": [],
   "source": [
    "# Observations :-\n",
    "# here we are not dropping any variable.\n",
    "# We are training the model with all remaining variables"
   ]
  },
  {
   "cell_type": "markdown",
   "id": "b2d2a3a6",
   "metadata": {},
   "source": [
    "### 2. coefficient of correlation"
   ]
  },
  {
   "cell_type": "code",
   "execution_count": 117,
   "id": "edbf7919",
   "metadata": {},
   "outputs": [],
   "source": [
    "#plt.figure(figsize=(20,12))\n",
    "#sns.heatmap(df.corr(),annot=True)"
   ]
  },
  {
   "cell_type": "markdown",
   "id": "57cc056c",
   "metadata": {},
   "source": [
    "# 6. Model training and evaluation"
   ]
  },
  {
   "cell_type": "markdown",
   "id": "4f66f28d",
   "metadata": {},
   "source": [
    "## Random Forest"
   ]
  },
  {
   "cell_type": "code",
   "execution_count": 118,
   "id": "ee3d7458",
   "metadata": {},
   "outputs": [
    {
     "data": {
      "text/plain": [
       "RandomForestRegressor()"
      ]
     },
     "execution_count": 118,
     "metadata": {},
     "output_type": "execute_result"
    }
   ],
   "source": [
    "Random_model = RandomForestRegressor()\n",
    "Random_model.fit(x_train,y_train)"
   ]
  },
  {
   "cell_type": "code",
   "execution_count": 119,
   "id": "fdbadedf",
   "metadata": {},
   "outputs": [
    {
     "name": "stdout",
     "output_type": "stream",
     "text": [
      "testing accuracy :-  0.8944873198418055\n",
      "testing mse :- 0.26001041762187044\n",
      "testing rmse :- 0.5099121665756471\n"
     ]
    }
   ],
   "source": [
    "# testing accuracy without hypertuning\n",
    "\n",
    "y_pred_test = Random_model.predict(x_test)\n",
    "\n",
    "r2score = r2_score(y_test,y_pred_test)\n",
    "print('testing accuracy :- ', r2score)\n",
    "\n",
    "mse = mean_squared_error(y_test,y_pred_test)\n",
    "print('testing mse :-', mse)\n",
    "\n",
    "rmse = np.sqrt(mse)\n",
    "print('testing rmse :-', rmse)"
   ]
  },
  {
   "cell_type": "code",
   "execution_count": 120,
   "id": "f8d0e298",
   "metadata": {},
   "outputs": [
    {
     "name": "stdout",
     "output_type": "stream",
     "text": [
      "training accuracy :-  0.9837270143527407\n",
      "training mse :- 0.03507853428041041\n",
      "training rmse :- 0.18729264342309446\n"
     ]
    }
   ],
   "source": [
    "# training accuracy without hypertuning\n",
    "\n",
    "y_pred_train = Random_model.predict(x_train)\n",
    "\n",
    "r2score = r2_score(y_train,y_pred_train)\n",
    "print('training accuracy :- ', r2score)\n",
    "\n",
    "mse = mean_squared_error(y_train,y_pred_train)\n",
    "print('training mse :-', mse)\n",
    "\n",
    "rmse = np.sqrt(mse)\n",
    "print('training rmse :-', rmse)"
   ]
  },
  {
   "cell_type": "code",
   "execution_count": 121,
   "id": "0efc731d",
   "metadata": {},
   "outputs": [],
   "source": [
    "residuals_1 = y_test - y_pred_test\n",
    "residuals_2 = y_train - y_pred_train"
   ]
  },
  {
   "cell_type": "code",
   "execution_count": 122,
   "id": "b5217333",
   "metadata": {},
   "outputs": [
    {
     "data": {
      "text/plain": [
       "0.9837270143527407"
      ]
     },
     "execution_count": 122,
     "metadata": {},
     "output_type": "execute_result"
    }
   ],
   "source": [
    "Random_model.score(x_train,y_train)"
   ]
  },
  {
   "cell_type": "code",
   "execution_count": 123,
   "id": "cc00d749",
   "metadata": {},
   "outputs": [
    {
     "data": {
      "text/plain": [
       "0.8944873198418055"
      ]
     },
     "execution_count": 123,
     "metadata": {},
     "output_type": "execute_result"
    }
   ],
   "source": [
    "Random_model.score(x_test,y_test)"
   ]
  },
  {
   "cell_type": "markdown",
   "id": "10e8e066",
   "metadata": {},
   "source": [
    "### hyperparameter tuning"
   ]
  },
  {
   "cell_type": "code",
   "execution_count": 124,
   "id": "6e035577",
   "metadata": {},
   "outputs": [
    {
     "data": {
      "text/plain": [
       "RandomizedSearchCV(cv=5, estimator=RandomForestRegressor(),\n",
       "                   param_distributions={'max_depth': array([2, 3, 4, 5, 6, 7, 8, 9]),\n",
       "                                        'min_samples_leaf': array([1, 2, 3, 4, 5, 6, 7, 8, 9]),\n",
       "                                        'min_samples_split': array([2, 3, 4, 5, 6, 7, 8, 9]),\n",
       "                                        'n_estimators': array([ 1,  2,  3,  4,  5,  6,  7,  8,  9, 10, 11, 12, 13, 14, 15, 16, 17,\n",
       "       18, 19, 20, 21, 22, 23, 24, 25, 26, 27, 28, 29, 30, 31, 32, 33, 34,\n",
       "       35, 36, 37, 38, 39, 40, 41, 42, 43, 44, 45, 46, 47, 48, 49, 50, 51,\n",
       "       52, 53, 54, 55, 56, 57, 58, 59, 60, 61, 62, 63, 64, 65, 66, 67, 68,\n",
       "       69, 70, 71, 72, 73, 74, 75, 76, 77, 78, 79, 80, 81, 82, 83, 84, 85,\n",
       "       86, 87, 88, 89, 90, 91, 92, 93, 94, 95, 96, 97, 98, 99])})"
      ]
     },
     "execution_count": 124,
     "metadata": {},
     "output_type": "execute_result"
    }
   ],
   "source": [
    "model = RandomForestRegressor()\n",
    "hype = {'n_estimators' : np.arange(1,100),\n",
    "        'max_depth' : np.arange(2,10),\n",
    "        'min_samples_split' : np.arange(2,10),\n",
    "        'min_samples_leaf' : np.arange(1,10)}\n",
    "rscv_model = RandomizedSearchCV(model,hype,cv=5)\n",
    "rscv_model.fit(x_train,y_train)"
   ]
  },
  {
   "cell_type": "code",
   "execution_count": 125,
   "id": "79126d83",
   "metadata": {},
   "outputs": [
    {
     "data": {
      "text/plain": [
       "{'n_estimators': 14,\n",
       " 'min_samples_split': 9,\n",
       " 'min_samples_leaf': 3,\n",
       " 'max_depth': 9}"
      ]
     },
     "execution_count": 125,
     "metadata": {},
     "output_type": "execute_result"
    }
   ],
   "source": [
    "rscv_model.best_params_"
   ]
  },
  {
   "cell_type": "code",
   "execution_count": 139,
   "id": "2e508177",
   "metadata": {},
   "outputs": [
    {
     "data": {
      "text/plain": [
       "RandomForestRegressor(max_depth=9, min_samples_leaf=3, min_samples_split=9,\n",
       "                      n_estimators=14)"
      ]
     },
     "execution_count": 139,
     "metadata": {},
     "output_type": "execute_result"
    }
   ],
   "source": [
    "new_model = RandomForestRegressor(n_estimators=14,min_samples_split=9,min_samples_leaf=3,max_depth=9)\n",
    "new_model.fit(x_train,y_train)"
   ]
  },
  {
   "cell_type": "code",
   "execution_count": 140,
   "id": "ce844a60",
   "metadata": {},
   "outputs": [
    {
     "name": "stdout",
     "output_type": "stream",
     "text": [
      "testing accuracy :-  0.8841454478906927\n",
      "testing mse :- 0.28549545355280453\n",
      "testing rmse :- 0.5343177458711291\n"
     ]
    }
   ],
   "source": [
    "# testing accuracy after hypertuning\n",
    "\n",
    "y_pred_test = new_model.predict(x_test)\n",
    "\n",
    "r2score = r2_score(y_test,y_pred_test)\n",
    "print('testing accuracy :- ', r2score)\n",
    "\n",
    "mse = mean_squared_error(y_test,y_pred_test)\n",
    "print('testing mse :-', mse)\n",
    "\n",
    "rmse = np.sqrt(mse)\n",
    "print('testing rmse :-', rmse)"
   ]
  },
  {
   "cell_type": "code",
   "execution_count": 141,
   "id": "9a5c6dd2",
   "metadata": {},
   "outputs": [
    {
     "name": "stdout",
     "output_type": "stream",
     "text": [
      "training accuracy :-  0.9365315282411923\n",
      "training mse :- 0.13681453487249629\n",
      "training rmse :- 0.36988448855351624\n"
     ]
    }
   ],
   "source": [
    "# training accuracy after hypertuning\n",
    "\n",
    "y_pred_train = new_model.predict(x_train)\n",
    "\n",
    "r2score = r2_score(y_train,y_pred_train)\n",
    "print('training accuracy :- ', r2score)\n",
    "\n",
    "mse = mean_squared_error(y_train,y_pred_train)\n",
    "print('training mse :-', mse)\n",
    "\n",
    "rmse = np.sqrt(mse)\n",
    "print('training rmse :-', rmse)"
   ]
  },
  {
   "cell_type": "code",
   "execution_count": 129,
   "id": "4a933855",
   "metadata": {},
   "outputs": [],
   "source": [
    "residuals_3 = y_test - y_pred_test\n",
    "residuals_4 = y_train- y_pred_train"
   ]
  },
  {
   "cell_type": "markdown",
   "id": "09aecb58",
   "metadata": {},
   "source": [
    "# "
   ]
  },
  {
   "cell_type": "markdown",
   "id": "3e56a165",
   "metadata": {},
   "source": [
    "# Adaboost model"
   ]
  },
  {
   "cell_type": "code",
   "execution_count": 130,
   "id": "9afe19fc",
   "metadata": {},
   "outputs": [],
   "source": [
    "from sklearn.ensemble import AdaBoostRegressor"
   ]
  },
  {
   "cell_type": "code",
   "execution_count": 131,
   "id": "b21d6e8e",
   "metadata": {},
   "outputs": [
    {
     "data": {
      "text/plain": [
       "AdaBoostRegressor()"
      ]
     },
     "execution_count": 131,
     "metadata": {},
     "output_type": "execute_result"
    }
   ],
   "source": [
    "adaboost_model = AdaBoostRegressor()\n",
    "adaboost_model.fit(x_train,y_train)"
   ]
  },
  {
   "cell_type": "code",
   "execution_count": 132,
   "id": "3172ae08",
   "metadata": {},
   "outputs": [
    {
     "name": "stdout",
     "output_type": "stream",
     "text": [
      "testing accuracy :-  0.8203087719257521\n",
      "testing mse :- 0.44280546361368683\n",
      "testing rmse :- 0.6654362956840323\n"
     ]
    }
   ],
   "source": [
    "# testing accuracy without hypertuning\n",
    "\n",
    "y_pred_test = adaboost_model.predict(x_test)\n",
    "\n",
    "r2score = r2_score(y_test,y_pred_test)\n",
    "print('testing accuracy :- ', r2score)\n",
    "\n",
    "mse = mean_squared_error(y_test,y_pred_test)\n",
    "print('testing mse :-', mse)\n",
    "\n",
    "rmse = np.sqrt(mse)\n",
    "print('testing rmse :-', rmse)"
   ]
  },
  {
   "cell_type": "code",
   "execution_count": 133,
   "id": "98a197fb",
   "metadata": {},
   "outputs": [
    {
     "name": "stdout",
     "output_type": "stream",
     "text": [
      "training accuracy :-  0.8328394008411784\n",
      "training mse :- 0.36033638417878333\n",
      "training rmse :- 0.6002802546967403\n"
     ]
    }
   ],
   "source": [
    "# training accuracy without hypertuning\n",
    "\n",
    "y_pred_train = adaboost_model.predict(x_train)\n",
    "\n",
    "r2score = r2_score(y_train,y_pred_train)\n",
    "print('training accuracy :- ', r2score)\n",
    "\n",
    "mse = mean_squared_error(y_train,y_pred_train)\n",
    "print('training mse :-', mse)\n",
    "\n",
    "rmse = np.sqrt(mse)\n",
    "print('training rmse :-', rmse)"
   ]
  },
  {
   "cell_type": "markdown",
   "id": "b2f3a0bd",
   "metadata": {},
   "source": [
    "### Hyper-parameter tuning"
   ]
  },
  {
   "cell_type": "code",
   "execution_count": 134,
   "id": "5f9c8beb",
   "metadata": {},
   "outputs": [
    {
     "data": {
      "text/plain": [
       "RandomizedSearchCV(cv=5, estimator=AdaBoostRegressor(),\n",
       "                   param_distributions={'learning_rate': array([0.1, 1.1, 2.1, 3.1, 4.1]),\n",
       "                                        'n_estimators': array([ 1,  2,  3,  4,  5,  6,  7,  8,  9, 10, 11, 12, 13, 14, 15, 16, 17,\n",
       "       18, 19, 20, 21, 22, 23, 24, 25, 26, 27, 28, 29, 30, 31, 32, 33, 34,\n",
       "       35, 36, 37, 38, 39, 40, 41, 42, 43, 44, 45, 46, 47, 48, 49, 50, 51,\n",
       "       52, 53, 54, 55, 56, 57, 58, 59, 60, 61, 62, 63, 64, 65, 66, 67, 68,\n",
       "       69, 70, 71, 72, 73, 74, 75, 76, 77, 78, 79, 80, 81, 82, 83, 84, 85,\n",
       "       86, 87, 88, 89, 90, 91, 92, 93, 94, 95, 96, 97, 98, 99])})"
      ]
     },
     "execution_count": 134,
     "metadata": {},
     "output_type": "execute_result"
    }
   ],
   "source": [
    "ada_hype_model = AdaBoostRegressor()\n",
    "hype = {'n_estimators' : np.arange(1,100),\n",
    "        'learning_rate' : np.arange(0.1,5)}\n",
    "rscv_model = RandomizedSearchCV(ada_hype_model,hype,cv=5)\n",
    "rscv_model.fit(x_train,y_train)"
   ]
  },
  {
   "cell_type": "code",
   "execution_count": 135,
   "id": "1a7968f2",
   "metadata": {},
   "outputs": [
    {
     "data": {
      "text/plain": [
       "{'n_estimators': 81, 'learning_rate': 3.1}"
      ]
     },
     "execution_count": 135,
     "metadata": {},
     "output_type": "execute_result"
    }
   ],
   "source": [
    "rscv_model.best_params_"
   ]
  },
  {
   "cell_type": "code",
   "execution_count": 142,
   "id": "0c64bcf8",
   "metadata": {},
   "outputs": [
    {
     "data": {
      "text/plain": [
       "AdaBoostRegressor(learning_rate=3.1, n_estimators=81)"
      ]
     },
     "execution_count": 142,
     "metadata": {},
     "output_type": "execute_result"
    }
   ],
   "source": [
    "ada_new_model = AdaBoostRegressor(n_estimators=81,learning_rate=3.1)\n",
    "ada_new_model.fit(x_train,y_train)"
   ]
  },
  {
   "cell_type": "code",
   "execution_count": 143,
   "id": "e6de3af5",
   "metadata": {},
   "outputs": [
    {
     "name": "stdout",
     "output_type": "stream",
     "text": [
      "testing accuracy :-  0.825173566892295\n",
      "testing mse :- 0.4308173559379159\n",
      "testing rmse :- 0.6563667846089684\n"
     ]
    }
   ],
   "source": [
    "# testing accuracy with hypertuning\n",
    "\n",
    "y_pred_test = ada_new_model.predict(x_test)\n",
    "\n",
    "r2score = r2_score(y_test,y_pred_test)\n",
    "print('testing accuracy :- ', r2score)\n",
    "\n",
    "mse = mean_squared_error(y_test,y_pred_test)\n",
    "print('testing mse :-', mse)\n",
    "\n",
    "rmse = np.sqrt(mse)\n",
    "print('testing rmse :-', rmse)"
   ]
  },
  {
   "cell_type": "code",
   "execution_count": 144,
   "id": "9a793051",
   "metadata": {},
   "outputs": [
    {
     "name": "stdout",
     "output_type": "stream",
     "text": [
      "training accuracy :-  0.8422452760902499\n",
      "training mse :- 0.3400607983389231\n",
      "training rmse :- 0.5831473212996208\n"
     ]
    }
   ],
   "source": [
    "# training accuracy with hypertuning\n",
    "\n",
    "y_pred_train = ada_new_model.predict(x_train)\n",
    "\n",
    "r2score = r2_score(y_train,y_pred_train)\n",
    "print('training accuracy :- ', r2score)\n",
    "\n",
    "mse = mean_squared_error(y_train,y_pred_train)\n",
    "print('training mse :-', mse)\n",
    "\n",
    "rmse = np.sqrt(mse)\n",
    "print('training rmse :-', rmse)"
   ]
  },
  {
   "cell_type": "code",
   "execution_count": null,
   "id": "76252988",
   "metadata": {},
   "outputs": [],
   "source": []
  }
 ],
 "metadata": {
  "kernelspec": {
   "display_name": "Python 3 (ipykernel)",
   "language": "python",
   "name": "python3"
  },
  "language_info": {
   "codemirror_mode": {
    "name": "ipython",
    "version": 3
   },
   "file_extension": ".py",
   "mimetype": "text/x-python",
   "name": "python",
   "nbconvert_exporter": "python",
   "pygments_lexer": "ipython3",
   "version": "3.9.12"
  }
 },
 "nbformat": 4,
 "nbformat_minor": 5
}
